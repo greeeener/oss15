{
  "cells": [
    {
      "cell_type": "code",
      "execution_count": null,
      "metadata": {
        "collapsed": false
      },
      "outputs": [],
      "source": [
        "%matplotlib inline"
      ]
    },
    {
      "cell_type": "markdown",
      "metadata": {},
      "source": [
        "\nPyTorch\uc5d0\uc11c \ub2e4\uc591\ud55c \uc7a5\uce58 \uac04 \ubaa8\ub378\uc744 \uc800\uc7a5\ud558\uace0 \ubd88\ub7ec\uc624\uae30\n===================================================\n\n\ub2e4\uc591\ud55c \uc7a5\uce58(device)\uc5d0\uc11c \ub2f9\uc2e0\uc758 \uc2e0\uacbd\ub9dd \ubaa8\ub378\uc744 \uc800\uc7a5\ud558\uac70\ub098 \ubd88\ub7ec\uc624\uace0 \uc2f6\uc740 \n\uacbd\uc6b0\uac00 \uc0dd\uae38 \uc218 \uc788\uc2b5\ub2c8\ub2e4.\n\n\uac1c\uc694\n------------\n\nPyTorch\ub97c \uc0ac\uc6a9\ud558\uc5ec \uc7a5\uce58 \uac04\uc758 \ubaa8\ub378\uc744 \uc800\uc7a5\ud558\uac70\ub098 \ubd88\ub7ec\uc624\ub294 \uac83\uc740 \ube44\uad50\uc801 \uac04\ub2e8\ud569\ub2c8\ub2e4.\n\uc774\ubc88 \ub808\uc2dc\ud53c\uc5d0\uc11c\ub294, CPU\uc640 GPU\uc5d0\uc11c \ubaa8\ub378\uc744 \uc800\uc7a5\ud558\uace0 \ubd88\ub7ec\uc624\ub294 \ubc29\ubc95\uc744 \uc2e4\ud5d8\ud560 \uac83\uc785\ub2c8\ub2e4.\n\n\uc124\uc815\n-----\n\n\uc774\ubc88 \ub808\uc2dc\ud53c\uc5d0\uc11c \ubaa8\ub4e0 \ucf54\ub4dc \ube14\ub85d\uc774 \uc81c\ub300\ub85c \uc2e4\ud589\ub418\uac8c \ud558\ub824\uba74, \n\uc6b0\uc120 \ub7f0\ud0c0\uc784(runtime) \uc124\uc815\uc744 \"GPU\"\ub098 \ub354 \ub192\uac8c \uc9c0\uc815\ud574\uc8fc\uc5b4\uc57c \ud569\ub2c8\ub2e4. \n\uc774\ud6c4, \uc544\ub798\uc640 \uac19\uc774 ``torch``\ub97c \uc124\uce58\ud574\uc57c PyTorch\ub97c \uc0ac\uc6a9\ud560 \uc218 \uc788\uc2b5\ub2c8\ub2e4.\n\n::\n\n   pip install torch\n\n\n"
      ]
    },
    {
      "cell_type": "markdown",
      "metadata": {},
      "source": [
        "\ub2e8\uacc4\n-----\n\n1. \ub370\uc774\ud130 \ud65c\uc6a9\uc5d0 \ud544\uc694\ud55c \ubaa8\ub4e0 \ub77c\uc774\ube0c\ub7ec\ub9ac Import \ud558\uae30\n2. \uc2e0\uacbd\ub9dd\uc744 \uad6c\uc131\ud558\uace0 \ucd08\uae30\ud654\ud558\uae30\n3. GPU\uc5d0\uc11c \uc800\uc7a5\ud558\uace0 CPU\uc5d0\uc11c \ubd88\ub7ec\uc624\uae30\n4. GPU\uc5d0\uc11c \uc800\uc7a5\ud558\uace0 GPU\uc5d0\uc11c \ubd88\ub7ec\uc624\uae30\n5. CPU\uc5d0\uc11c \uc800\uc7a5\ud558\uace0 GPU\uc5d0\uc11c \ubd88\ub7ec\uc624\uae30\n6. ``DataParallel`` \ubaa8\ub378\uc744 \uc800\uc7a5\ud558\uace0 \ubd88\ub7ec\uc624\uae30\n\n1. \ub370\uc774\ud130 \ud65c\uc6a9\uc5d0 \ud544\uc694\ud55c \ubaa8\ub4e0 \ub77c\uc774\ube0c\ub7ec\ub9ac Import \ud558\uae30\n~~~~~~~~~~~~~~~~~~~~~~~~~~~~~~~~~~~~~~~~~~~~~~~~~~~~~~\n\n\uc774\ubc88 \ub808\uc2dc\ud53c\uc5d0\uc11c \uc6b0\ub9ac\ub294 ``torch`` \ubc0f \ud558\uc704 \ud328\ud0a4\uc9c0\uc778 ``torch.nn``\uc640 \n``torch.optim``\uc744 \uc0ac\uc6a9\ud560 \uac83\uc785\ub2c8\ub2e4.\n\n\n"
      ]
    },
    {
      "cell_type": "code",
      "execution_count": null,
      "metadata": {
        "collapsed": false
      },
      "outputs": [],
      "source": [
        "import torch\nimport torch.nn as nn\nimport torch.optim as optim"
      ]
    },
    {
      "cell_type": "markdown",
      "metadata": {},
      "source": [
        "2. \uc2e0\uacbd\ub9dd\uc744 \uad6c\uc131\ud558\uace0 \ucd08\uae30\ud654\ud558\uae30\n~~~~~~~~~~~~~~~~~~~~~~~~~~~~~~~~~~~~~~~~~~~~~~\n\n\uc608\ub85c, \uc774\ubbf8\uc9c0 \ud2b8\ub808\uc774\ub2dd\uc744 \uc704\ud55c \uc2e0\uacbd\ub9dd\uc744 \uc0dd\uc131\ud574\ubcf4\uaca0\uc2b5\ub2c8\ub2e4.\n\uc790\uc138\ud55c \ub0b4\uc6a9\uc740 \uc2e0\uacbd\ub9dd \uc815\uc758 \ub808\uc2dc\ud53c\ub97c \ucc38\uc870\ud558\uc138\uc694.\n\n\n"
      ]
    },
    {
      "cell_type": "code",
      "execution_count": null,
      "metadata": {
        "collapsed": false
      },
      "outputs": [],
      "source": [
        "class Net(nn.Module):\n    def __init__(self):\n        super(Net, self).__init__()\n        self.conv1 = nn.Conv2d(3, 6, 5)\n        self.pool = nn.MaxPool2d(2, 2)\n        self.conv2 = nn.Conv2d(6, 16, 5)\n        self.fc1 = nn.Linear(16 * 5 * 5, 120)\n        self.fc2 = nn.Linear(120, 84)\n        self.fc3 = nn.Linear(84, 10)\n\n    def forward(self, x):\n        x = self.pool(F.relu(self.conv1(x)))\n        x = self.pool(F.relu(self.conv2(x)))\n        x = x.view(-1, 16 * 5 * 5)\n        x = F.relu(self.fc1(x))\n        x = F.relu(self.fc2(x))\n        x = self.fc3(x)\n        return x\n\nnet = Net()\nprint(net)"
      ]
    },
    {
      "cell_type": "markdown",
      "metadata": {},
      "source": [
        "3. GPU\uc5d0\uc11c \uc800\uc7a5\ud558\uace0 CPU\uc5d0\uc11c \ubd88\ub7ec\uc624\uae30\n~~~~~~~~~~~~~~~~~~~~~~~~~~~~~~~~~~~~~\n\nGPU\ub85c \ud559\uc2b5\ub41c \ubaa8\ub378\uc744 CPU\uc5d0\uc11c \ubd88\ub7ec\uc62c \ub54c\ub294 ``torch.load()`` \ud568\uc218\uc758 \n``map_location`` \uc778\uc790\uc5d0 ``torch.device('cpu')``\ub97c \uc804\ub2ec\ud569\ub2c8\ub2e4.\n\n\n"
      ]
    },
    {
      "cell_type": "code",
      "execution_count": null,
      "metadata": {
        "collapsed": false
      },
      "outputs": [],
      "source": [
        "# \uc800\uc7a5\ud558\uace0\uc790 \ud558\ub294 \uacbd\ub85c\ub97c \uc9c0\uc815\ud569\ub2c8\ub2e4.\nPATH = \"model.pt\"\n\n# \uc800\uc7a5\ud558\uae30\ntorch.save(net.state_dict(), PATH)\n\n# \ubd88\ub7ec\uc624\uae30\ndevice = torch.device('cpu')\nmodel = Net()\nmodel.load_state_dict(torch.load(PATH, map_location=device))"
      ]
    },
    {
      "cell_type": "markdown",
      "metadata": {},
      "source": [
        "\uc774 \uacbd\uc6b0, Tensor\uc758 \uc800\uc7a5\ub41c \ub0b4\uc6a9\uc740 ``map_location`` \uc778\uc790\ub97c \ud1b5\ud558\uc5ec CPU \uc7a5\uce58\uc5d0\n\ub3d9\uc801\uc73c\ub85c \uc7ac\ubc30\uce58\ub429\ub2c8\ub2e4.\n\n4. GPU\uc5d0\uc11c \uc800\uc7a5\ud558\uace0 GPU\uc5d0\uc11c \ubd88\ub7ec\uc624\uae30\n~~~~~~~~~~~~~~~~~~~~~~~~~~~~~~~~~~~~~\n\nGPU\uc5d0\uc11c \ud559\uc2b5\ud558\uace0 \uc800\uc7a5\ub41c \ubaa8\ub378\uc744 GPU\uc5d0\uc11c \ubd88\ub7ec\uc62c \ub54c\ub294, \ucd08\uae30\ud654\ub41c \ubaa8\ub378\uc5d0\n``model.to(torch.device('cuda'))``\uc744 \ud638\ucd9c\ud558\uc5ec CUDA\uc5d0 \ucd5c\uc801\ud654\ub41c \ubaa8\ub378\ub85c \n\ubcc0\ud658\ud574\uc8fc\uc138\uc694.\n\n\uadf8\ub9ac\uace0 \ubaa8\ub4e0 \uc785\ub825\uc5d0 ``.to(torch.device('cuda'))`` \ud568\uc218\ub97c \ud638\ucd9c\ud574\uc57c \n\ubaa8\ub378\uc5d0 \ub370\uc774\ud130\ub97c \uc81c\uacf5\ud560 \uc218 \uc788\uc2b5\ub2c8\ub2e4.\n\n\n"
      ]
    },
    {
      "cell_type": "code",
      "execution_count": null,
      "metadata": {
        "collapsed": false
      },
      "outputs": [],
      "source": [
        "# \uc800\uc7a5\ud558\uae30\ntorch.save(net.state_dict(), PATH)\n\n# \ubd88\ub7ec\uc624\uae30\ndevice = torch.device(\"cuda\")\nmodel = Net()\nmodel.load_state_dict(torch.load(PATH))\nmodel.to(device)"
      ]
    },
    {
      "cell_type": "markdown",
      "metadata": {},
      "source": [
        "``my_tensor.to(device)``\ub97c \ud638\ucd9c\ud558\uba74 GPU\uc5d0 ``my_tensor``\uc758 \ubcf5\uc0ac\ubcf8\uc774\n\ubc18\ud658\ub418\uba70, \uc774\ub294 ``my_tensor``\ub97c \ub36e\uc5b4\uc4f0\ub294 \uac83\uc774 \uc544\ub2d9\ub2c8\ub2e4.\n\uadf8\ub7ec\ubbc0\ub85c, Tensor\ub97c \uc9c1\uc811 \ub36e\uc5b4\uc368 \uc8fc\uc5b4\uc57c \ud55c\ub2e4\ub294 \uac83\uc744 \uae30\uc5b5\ud558\uc138\uc694:\n``my_tensor = my_tensor.to(torch.device('cuda'))``.\n\n5. CPU\uc5d0\uc11c \uc800\uc7a5\ud558\uace0 GPU\uc5d0\uc11c \ubd88\ub7ec\uc624\uae30\n~~~~~~~~~~~~~~~~~~~~~~~~~~~~~~~~~~~~~\n\nCPU\uc5d0\uc11c \ud559\uc2b5\ud558\uace0 \uc800\uc7a5\ub41c \ubaa8\ub378\uc744 GPU\uc5d0\uc11c \ubd88\ub7ec\uc62c \ub54c\ub294,``torch.load()``\ud568\uc218\uc758 \n``map_location``\uc778\uc790\ub97c ``cuda:device_id``\ub85c \uc124\uc815\ud574\uc8fc\uc138\uc694.\n\uadf8\ub7ec\uba74 \uc8fc\uc5b4\uc9c4 GPU \uc7a5\uce58\uc5d0 \ubaa8\ub378\uc774 \ubd88\ub7ec\uc640 \uc9d1\ub2c8\ub2e4.\n\n\ubaa8\ub378\uc758 \ub9e4\uac1c\ubcc0\uc218 Tensor\ub97c CUDA Tensor\ub85c \ubcc0\ud658\ud558\uae30 \uc704\ud574,\n``model.to(torch.device('cuda'))``\ub97c \ud638\ucd9c\ud574\uc8fc\uc138\uc694.\n\n\n"
      ]
    },
    {
      "cell_type": "code",
      "execution_count": null,
      "metadata": {
        "collapsed": false
      },
      "outputs": [],
      "source": [
        "# \uc800\uc7a5\ud558\uae30\ntorch.save(net.state_dict(), PATH)\n\n# \ubd88\ub7ec\uc624\uae30\ndevice = torch.device(\"cuda\")\nmodel = Net()\n# \uc0ac\uc6a9\ud558\uace0\uc790 \ud558\ub294 GPU \uc7a5\uce58 \ubc88\ud638\ub97c \uc9c0\uc815\ud569\ub2c8\ub2e4.\nmodel.load_state_dict(torch.load(PATH, map_location=\"cuda:0\"))\n# \ubaa8\ub378\uc5d0 \uc0ac\uc6a9\ub418\ub294 \ubaa8\ub4e0 \uc785\ub825 Tensor\ub4e4\uc5d0 \ub300\ud574 input = input.to(device) \uc744 \ud638\ucd9c\ud574\uc57c \ud569\ub2c8\ub2e4.\nmodel.to(device)"
      ]
    },
    {
      "cell_type": "markdown",
      "metadata": {},
      "source": [
        "6. ``torch.nn.DataParallel`` \ubaa8\ub378\uc744 \uc800\uc7a5\ud558\uace0 \ubd88\ub7ec\uc624\uae30\n~~~~~~~~~~~~~~~~~~~~~~~~~~~~~~~~~~~~~~~~~~~~~~\n\n``torch.nn.DataParallel``\uc740 \ubcd1\ub82c GPU \ud65c\uc6a9\uc744 \uac00\ub2a5\ud558\uac8c \ud558\ub294 \ubaa8\ub378 \ub798\ud37c(wrapper)\uc785\ub2c8\ub2e4.\n\n``DataParallel`` \ubaa8\ub378\uc744 \ubc94\uc6a9\uc801\uc73c\ub85c \uc800\uc7a5\ud558\uae30 \uc704\ud574\uc11c\ub294\n``model.module.state_dict()``\uc744 \uc0ac\uc6a9\ud558\uba74 \ub429\ub2c8\ub2e4.\n\uadf8\ub7ec\uba74 \uc6d0\ud558\ub294 \uc7a5\uce58\uc5d0 \uc6d0\ud558\ub294 \ubc29\uc2dd\uc73c\ub85c \uc720\uc5f0\ud558\uac8c \ubaa8\ub378\uc744 \ubd88\ub7ec\uc62c \uc218 \uc788\uc2b5\ub2c8\ub2e4.\n\n\n"
      ]
    },
    {
      "cell_type": "code",
      "execution_count": null,
      "metadata": {
        "collapsed": false
      },
      "outputs": [],
      "source": [
        "# \uc800\uc7a5\ud558\uae30\ntorch.save(net.module.state_dict(), PATH)\n\n# \uc0ac\uc6a9\ud560 \uc7a5\uce58\uc5d0 \ubd88\ub7ec\uc624\uae30"
      ]
    },
    {
      "cell_type": "markdown",
      "metadata": {},
      "source": [
        "\ucd95\ud558\ud569\ub2c8\ub2e4! PyTorch\uc5d0\uc11c \ub2e4\uc591\ud55c \uc7a5\uce58 \uac04\uc5d0 \ubaa8\ub378\uc744 \uc131\uacf5\uc801\uc73c\ub85c \uc800\uc7a5\ud558\uace0 \ubd88\ub7ec\uc654\uc2b5\ub2c8\ub2e4.\n\n\ub354 \uc54c\uc544\ubcf4\uae30\n-----------\n\n\ub2e4\ub978 \ub808\uc2dc\ud53c\ub97c \ub458\ub7ec\ubcf4\uace0 \uacc4\uc18d \ubc30\uc6cc\ubcf4\uc138\uc694:\n\n-  TBD\n-  TBD\n\n\n"
      ]
    }
  ],
  "metadata": {
    "kernelspec": {
      "display_name": "Python 3",
      "language": "python",
      "name": "python3"
    },
    "language_info": {
      "codemirror_mode": {
        "name": "ipython",
        "version": 3
      },
      "file_extension": ".py",
      "mimetype": "text/x-python",
      "name": "python",
      "nbconvert_exporter": "python",
      "pygments_lexer": "ipython3",
      "version": "3.6.7"
    }
  },
  "nbformat": 4,
  "nbformat_minor": 0
}