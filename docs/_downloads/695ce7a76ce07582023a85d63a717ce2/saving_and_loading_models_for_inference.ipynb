{
  "cells": [
    {
      "cell_type": "code",
      "execution_count": null,
      "metadata": {
        "collapsed": false
      },
      "outputs": [],
      "source": [
        "%matplotlib inline"
      ]
    },
    {
      "cell_type": "markdown",
      "metadata": {},
      "source": [
        "\nPyTorch\uc5d0\uc11c \ucd94\ub860(inference)\uc744 \uc704\ud574 \ubaa8\ub378 \uc800\uc7a5\ud558\uae30 & \ubd88\ub7ec\uc624\uae30\n================================================================\n\nPyTorch\uc5d0\uc11c\ub294 \ucd94\ub860(inference)\uc744 \uc704\ud574 \ubaa8\ub378\uc744 \uc800\uc7a5\ud558\uace0 \ubd88\ub7ec\uc624\ub294\ub370 2\uac00\uc9c0 \uc811\uadfc\ubc95\uc774\n\uc788\uc2b5\ub2c8\ub2e4. \uccab\ubc88\uc9f8\ub294 ``state_dict`` \ub97c \uc800\uc7a5\ud558\uace0 \ubd88\ub7ec\uc624\ub294 \uac83\uc774\uace0, \ub450\ubc88\uc9f8\ub294 \uc804\uccb4\n\ubaa8\ub378\uc744 \uc800\uc7a5\ud558\ub294 \uac83\uc785\ub2c8\ub2e4.\n\n\uac1c\uc694\n------------\ntorch.save() \ud568\uc218\ub97c \uc0ac\uc6a9\ud558\uc5ec \ubaa8\ub378\uc758 ``state_dict`` \ub97c \uc800\uc7a5\ud558\uba74 \uc774\ud6c4\uc5d0 \ubaa8\ub378\uc744\n\ubd88\ub7ec\uc62c \ub54c \uc720\uc5f0\ud568\uc744 \ud06c\uac8c \uc0b4\ub9b4 \uc218 \uc788\uc2b5\ub2c8\ub2e4. \ud559\uc2b5\ub41c \ubaa8\ub378\uc758 \ub9e4\uac1c\ubcc0\uc218(parameter)\ub9cc\uc744\n\uc800\uc7a5\ud558\uba74\ub418\ubbc0\ub85c \ubaa8\ub378 \uc800\uc7a5 \uc2dc\uc5d0 \uad8c\uc7a5\ud558\ub294 \ubc29\ubc95\uc785\ub2c8\ub2e4. \ubaa8\ub378 \uc804\uccb4\ub97c \uc800\uc7a5\ud558\uace0 \ubd88\ub7ec\uc62c\n\ub54c\uc5d0\ub294 Python\uc758 `pickle <https://docs.python.org/3/library/pickle.html>`__ \ubaa8\ub4c8\uc744\n\uc0ac\uc6a9\ud558\uc5ec \uc804\uccb4 \ubaa8\ub4c8\uc744 \uc800\uc7a5\ud569\ub2c8\ub2e4. \uc774 \ubc29\uc2dd\uc740 \uc9c1\uad00\uc801\uc778 \ubb38\ubc95\uc744 \uc0ac\uc6a9\ud558\uba70 \ucf54\ub4dc\uc758 \uc591\ub3c4\n\uc801\uc2b5\ub2c8\ub2e4. \uc774 \ubc29\uc2dd\uc758 \ub2e8\uc810\uc740 \uc9c1\ub82c\ud654(serialized)\ub41c \ub370\uc774\ud130\uac00 \ubaa8\ub378\uc744 \uc800\uc7a5\ud560 \ub54c \uc0ac\uc6a9\ud55c\n\ud2b9\uc815 \ud074\ub798\uc2a4 \ubc0f \ub514\ub809\ud1a0\ub9ac \uad6c\uc870\uc5d0 \uc885\uc18d(bind)\ub41c\ub2e4\ub294 \uac83\uc785\ub2c8\ub2e4. \uadf8 \uc774\uc720\ub294 pickle\uc774\n\ubaa8\ub378 \ud074\ub798\uc2a4 \uc790\uccb4\ub97c \uc800\uc7a5\ud558\uc9c0 \uc54a\uae30 \ub54c\ubb38\uc785\ub2c8\ub2e4. \uc624\ud788\ub824 \ubd88\ub7ec\uc62c \ub54c \uc0ac\uc6a9\ub418\ub294 \ud074\ub798\uc2a4\uac00\n\ud3ec\ud568\ub41c \ud30c\uc77c\uc758 \uacbd\ub85c\ub97c \uc800\uc7a5\ud569\ub2c8\ub2e4. \uc774 \ub54c\ubb38\uc5d0 \uc791\uc131\ud55c \ucf54\ub4dc\uac00 \ub2e4\ub978 \ud504\ub85c\uc81d\ud2b8\uc5d0\uc11c\n\uc0ac\uc6a9\ub418\uac70\ub098 \ub9ac\ud329\ud1a0\ub9c1\uc744 \uac70\uce58\ub294 \ub4f1\uc758 \uacfc\uc815\uc5d0\uc11c \ub3d9\uc791\ud558\uc9c0 \uc54a\uc744 \uc218 \uc788\uc2b5\ub2c8\ub2e4. \uc774 \ub808\uc2dc\ud53c\uc5d0\uc11c\ub294\n\ucd94\ub860\uc744 \uc704\ud574 \ubaa8\ub378\uc744 \uc800\uc7a5\ud558\uace0 \ubd88\ub7ec\uc624\ub294 \ub450 \uac00\uc9c0 \ubc29\ubc95 \ubaa8\ub450\ub97c \uc0b4\ud3b4\ubcf4\uaca0\uc2b5\ub2c8\ub2e4.\n\n\uc124\uc815\n----------\n\uc2dc\uc791\ud558\uae30 \uc804\uc5d0 ``torch`` \uac00 \uc5c6\ub2e4\uba74 \uc124\uce58\ud574\uc57c \ud569\ub2c8\ub2e4.\n\n\n::\n\n   pip install torch\n\n\n\n"
      ]
    },
    {
      "cell_type": "markdown",
      "metadata": {},
      "source": [
        "\ub2e8\uacc4(Steps)\n------------\n\n1. \ub370\uc774\ud130 \ubd88\ub7ec\uc62c \ub54c \ud544\uc694\ud55c \ub77c\uc774\ube0c\ub7ec\ub9ac\ub4e4 \ubd88\ub7ec\uc624\uae30\n2. \uc2e0\uacbd\ub9dd\uc744 \uad6c\uc131\ud558\uace0 \ucd08\uae30\ud654\ud558\uae30\n3. \uc635\ud2f0\ub9c8\uc774\uc800 \ucd08\uae30\ud654\ud558\uae30\n4. ``state_dict`` \uc744 \ud1b5\ud574 \ubaa8\ub378\uc744 \uc800\uc7a5\ud558\uace0 \ubd88\ub7ec\uc624\uae30\n5. \uc804\uccb4 \ubaa8\ub378\uc744 \uc800\uc7a5\ud558\uace0 \ubd88\ub7ec\uc624\uae30\n\n1. \ub370\uc774\ud130 \ubd88\ub7ec\uc62c \ub54c \ud544\uc694\ud55c \ub77c\uc774\ube0c\ub7ec\ub9ac\ub4e4 \ubd88\ub7ec\uc624\uae30\n~~~~~~~~~~~~~~~~~~~~~~~~~~~~~~~~~~~~~~~~~~~~~~~~~~~~~~\n\n\uc774 \ub808\uc2dc\ud53c\uc5d0\uc11c\ub294 ``torch`` \uc640 \uc5ec\uae30 \ud3ec\ud568\ub41c ``torch.nn`` \uacfc ``torch.optim` \uc744\n\uc0ac\uc6a9\ud558\uaca0\uc2b5\ub2c8\ub2e4.\n\n\n"
      ]
    },
    {
      "cell_type": "code",
      "execution_count": null,
      "metadata": {
        "collapsed": false
      },
      "outputs": [],
      "source": [
        "import torch\nimport torch.nn as nn\nimport torch.optim as optim"
      ]
    },
    {
      "cell_type": "markdown",
      "metadata": {},
      "source": [
        "2. \uc2e0\uacbd\ub9dd\uc744 \uad6c\uc131\ud558\uace0 \ucd08\uae30\ud654\ud558\uae30\n~~~~~~~~~~~~~~~~~~~~~~~~~~~~~~~~~~~~~~~~~~~~~~\n\n\uc608\ub97c \ub4e4\uae30 \uc704\ud574, \uc774\ubbf8\uc9c0\ub97c \ud559\uc2b5\ud558\ub294 \uc2e0\uacbd\ub9dd\uc744 \ub9cc\ub4e4\uc5b4\ubcf4\uaca0\uc2b5\ub2c8\ub2e4. \ub354 \uc790\uc138\ud55c \ub0b4\uc6a9\uc740\n\uc2e0\uacbd\ub9dd \uad6c\uc131\ud558\uae30 \ub808\uc2dc\ud53c\ub97c \ucc38\uace0\ud574\uc8fc\uc138\uc694.\n\n\n"
      ]
    },
    {
      "cell_type": "code",
      "execution_count": null,
      "metadata": {
        "collapsed": false
      },
      "outputs": [],
      "source": [
        "class Net(nn.Module):\n    def __init__(self):\n        super(Net, self).__init__()\n        self.conv1 = nn.Conv2d(3, 6, 5)\n        self.pool = nn.MaxPool2d(2, 2)\n        self.conv2 = nn.Conv2d(6, 16, 5)\n        self.fc1 = nn.Linear(16 * 5 * 5, 120)\n        self.fc2 = nn.Linear(120, 84)\n        self.fc3 = nn.Linear(84, 10)\n\n    def forward(self, x):\n        x = self.pool(F.relu(self.conv1(x)))\n        x = self.pool(F.relu(self.conv2(x)))\n        x = x.view(-1, 16 * 5 * 5)\n        x = F.relu(self.fc1(x))\n        x = F.relu(self.fc2(x))\n        x = self.fc3(x)\n        return x\n\nnet = Net()\nprint(net)"
      ]
    },
    {
      "cell_type": "markdown",
      "metadata": {},
      "source": [
        "3. \uc635\ud2f0\ub9c8\uc774\uc800 \ucd08\uae30\ud654\ud558\uae30\n~~~~~~~~~~~~~~~~~~~~~~~~~~~~~~~\n\n\ubaa8\uba58\ud140(momentum)\uc744 \uac16\ub294 SGD\ub97c \uc0ac\uc6a9\ud558\uaca0\uc2b5\ub2c8\ub2e4.\n\n\n"
      ]
    },
    {
      "cell_type": "code",
      "execution_count": null,
      "metadata": {
        "collapsed": false
      },
      "outputs": [],
      "source": [
        "optimizer = optim.SGD(net.parameters(), lr=0.001, momentum=0.9)"
      ]
    },
    {
      "cell_type": "markdown",
      "metadata": {},
      "source": [
        "4. ``state_dict`` \uc744 \ud1b5\ud574 \ubaa8\ub378\uc744 \uc800\uc7a5\ud558\uace0 \ubd88\ub7ec\uc624\uae30\n~~~~~~~~~~~~~~~~~~~~~~~~~~~~~~~~~~~~~~~~~~~~~~~~~~~~~~\n\n\uc774\uc81c ``state_dict`` \ub9cc \uc0ac\uc6a9\ud558\uc5ec \ubaa8\ub378\uc744 \uc800\uc7a5\ud558\uace0 \ubd88\ub7ec\uc640\ubcf4\uaca0\uc2b5\ub2c8\ub2e4.\n\n\n"
      ]
    },
    {
      "cell_type": "code",
      "execution_count": null,
      "metadata": {
        "collapsed": false
      },
      "outputs": [],
      "source": [
        "# \uacbd\ub85c \uc9c0\uc815\nPATH = \"state_dict_model.pt\"\n\n# \uc800\uc7a5\ud558\uae30\ntorch.save(net.state_dict(), PATH)\n\n# \ubd88\ub7ec\uc624\uae30\nmodel = Net()\nmodel.load_state_dict(torch.load(PATH))\nmodel.eval()"
      ]
    },
    {
      "cell_type": "markdown",
      "metadata": {},
      "source": [
        "PyTorch\uc5d0\uc11c\ub294 \ubaa8\ub378\uc744 \uc800\uc7a5\ud560 \ub54c ``.pt`` \ub610\ub294 ``.pth`` \ud655\uc7a5\uc790\ub97c \uc0ac\uc6a9\ud558\ub294 \uac83\uc774\n\uc77c\ubc18\uc801\uc778 \uaddc\uce59\uc785\ub2c8\ub2e4.\n\n``load_state_dict()`` \ud568\uc218\ub294 \uc800\uc7a5\ub41c \uac1d\uccb4\uc758 \uacbd\ub85c\uac00 \uc544\ub2cc, \uc0ac\uc804 \uac1d\uccb4\ub97c \uc0ac\uc6a9\ud569\ub2c8\ub2e4.\n\uc989, \uc800\uc7a5\ub41c state_dict\ub97c ``load_state_dict()`` \ud568\uc218\uc5d0 \uc804\ub2ec\ud558\uae30 \uc804\uc5d0 \ubc18\ub4dc\uc2dc\n\uc5ed\uc9c1\ub82c\ud654(deserialize)\ub97c \ud574\uc57c \ud569\ub2c8\ub2e4. \uc608\ub97c \ub4e4\uc5b4, ``model.load_state_dict(PATH)``\n\uc640 \uac19\uc774 \uc0ac\uc6a9\ud560 \uc218 \uc5c6\uc2b5\ub2c8\ub2e4.\n\n\ub610\ud55c, \ucd94\ub860\uc744 \uc2e4\ud589\ud558\uae30 \uc804\uc5d0 ``model.eval()`` \uc744 \ud638\ucd9c\ud558\uc5ec \ub4dc\ub86d\uc544\uc6c3(dropout)\uacfc\n\ubc30\uce58 \uc815\uaddc\ud654 \uce35(batch normalization layers)\uc744 \ud3c9\uac00(evaluation) \ubaa8\ub4dc\ub85c \ubc14\uafd4\uc57c\ud55c\ub2e4\ub294\n\uac83\uc744 \uae30\uc5b5\ud558\uc138\uc694. \uc774\uac83\uc744 \ube7c\uba39\uc73c\uba74 \uc77c\uad00\uc131 \uc5c6\ub294 \ucd94\ub860 \uacb0\uacfc\ub97c \uc5bb\uac8c \ub429\ub2c8\ub2e4.\n\n5. \uc804\uccb4 \ubaa8\ub378\uc744 \uc800\uc7a5\ud558\uace0 \ubd88\ub7ec\uc624\uae30\n~~~~~~~~~~~~~~~~~~~~~~~~~~~~~~~~~\n\n\uc774\uc81c \uc804\uccb4 \ubaa8\ub378\uc5d0 \ub300\ud574\uc11c \ub611\uac19\uc774 \ud574\ubcf4\uaca0\uc2b5\ub2c8\ub2e4.\n\n\n"
      ]
    },
    {
      "cell_type": "code",
      "execution_count": null,
      "metadata": {
        "collapsed": false
      },
      "outputs": [],
      "source": [
        "# \uacbd\ub85c \uc9c0\uc815\nPATH = \"entire_model.pt\"\n\n# \uc800\uc7a5\ud558\uae30\ntorch.save(net, PATH)\n\n# \ubd88\ub7ec\uc624\uae30\nmodel = torch.load(PATH)\nmodel.eval()"
      ]
    },
    {
      "cell_type": "markdown",
      "metadata": {},
      "source": [
        "\uc5ec\uae30\uc11c\ub3c4 \ub610\ud55c model.eval()\uc744 \uc2e4\ud589\ud558\uc5ec \ub4dc\ub86d\uc544\uc6c3(dropout)\uacfc \ubc30\uce58 \uc815\uaddc\ud654 \uce35\n(batch normalization layers)\uc744 \ud3c9\uac00(evaluation) \ubaa8\ub4dc\ub85c \ubc14\uafd4\uc57c\ud55c\ub2e4\ub294\n\uac83\uc744 \uae30\uc5b5\ud558\uc138\uc694.\n\n\ucd95\ud558\ud569\ub2c8\ub2e4! \uc9c0\uae08\uae4c\uc9c0 PyTorch\uc5d0\uc11c \ucd94\ub860\uc744\uc704\ud55c \ubaa8\ub378\uc744 \uc131\uacf5\uc801\uc73c\ub85c \uc800\uc7a5\ud558\uace0 \ubd88\ub7ec\uc654\uc2b5\ub2c8\ub2e4.\n\n\ub354 \uc54c\uc544\ubcf4\uae30\n-------------\n\n\ub2e4\ub978 \ub808\uc2dc\ud53c\ub97c \ub458\ub7ec\ubcf4\uace0 \uacc4\uc18d \ubc30\uc6cc\ubcf4\uc138\uc694:\n\n- :doc:`/recipes/recipes/saving_and_loading_a_general_checkpoint`\n- :doc:`/recipes/recipes/saving_multiple_models_in_one_file`\n\n"
      ]
    }
  ],
  "metadata": {
    "kernelspec": {
      "display_name": "Python 3",
      "language": "python",
      "name": "python3"
    },
    "language_info": {
      "codemirror_mode": {
        "name": "ipython",
        "version": 3
      },
      "file_extension": ".py",
      "mimetype": "text/x-python",
      "name": "python",
      "nbconvert_exporter": "python",
      "pygments_lexer": "ipython3",
      "version": "3.6.7"
    }
  },
  "nbformat": 4,
  "nbformat_minor": 0
}