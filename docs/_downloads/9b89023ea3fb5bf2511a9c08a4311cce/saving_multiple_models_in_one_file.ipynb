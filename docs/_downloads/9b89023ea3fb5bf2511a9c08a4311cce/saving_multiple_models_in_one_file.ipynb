{
  "cells": [
    {
      "cell_type": "code",
      "execution_count": null,
      "metadata": {
        "collapsed": false
      },
      "outputs": [],
      "source": [
        "%matplotlib inline"
      ]
    },
    {
      "cell_type": "markdown",
      "metadata": {},
      "source": [
        "\nPyTorch\uc5d0\uc11c \uc5ec\ub7ec \ubaa8\ub378\uc744 \ud558\ub098\uc758 \ud30c\uc77c\uc5d0 \uc800\uc7a5\ud558\uae30 & \ubd88\ub7ec\uc624\uae30\n============================================================\n\uc5ec\ub7ec \ubaa8\ub378\uc744 \uc800\uc7a5\ud558\uace0 \ubd88\ub7ec\uc624\ub294 \uac83\uc740 \uc774\uc804\uc5d0 \ud559\uc2b5\ud588\ub358 \ubaa8\ub378\ub4e4\uc744 \uc7ac\uc0ac\uc6a9\ud558\ub294\ub370 \ub3c4\uc6c0\uc774 \ub429\ub2c8\ub2e4.\n\n\uac1c\uc694\n------------\nGAN\uc774\ub098 \uc2dc\ud000\uc2a4-\ud22c-\uc2dc\ud000\uc2a4(sequence-to-sequence model), \uc559\uc0c1\ube14 \ubaa8\ub378(ensemble of models)\uacfc\n\uac19\uc774 \uc5ec\ub7ec ``torch.nn.Modules`` \ub85c \uad6c\uc131\ub41c \ubaa8\ub378\uc744 \uc800\uc7a5\ud560 \ub54c\ub294 \uac01 \ubaa8\ub378\uc758 state_dict\uc640\n\ud574\ub2f9 \uc635\ud2f0\ub9c8\uc774\uc800(optimizer)\uc758 \uc0ac\uc804\uc744 \uc800\uc7a5\ud574\uc57c \ud569\ub2c8\ub2e4. \ub610\ud55c, \ud559\uc2b5 \ud559\uc2b5\uc744 \uc7ac\uac1c\ud558\ub294\ub370\n\ud544\uc694\ud55c \ub2e4\ub978 \ud56d\ubaa9\ub4e4\uc744 \uc0ac\uc804\uc5d0 \ucd94\uac00\ud560 \uc218 \uc788\uc2b5\ub2c8\ub2e4. \ubaa8\ub378\ub4e4\uc744 \ubd88\ub7ec\uc62c \ub54c\uc5d0\ub294, \uba3c\uc800\n\ubaa8\ub378\ub4e4\uacfc \uc635\ud2f0\ub9c8\uc774\uc800\ub97c \ucd08\uae30\ud654\ud558\uace0, ``torch.load()`` \ub97c \uc0ac\uc6a9\ud558\uc5ec \uc0ac\uc804\uc744 \ubd88\ub7ec\uc635\ub2c8\ub2e4.\n\uc774\ud6c4 \uc6d0\ud558\ub294\ub300\ub85c \uc800\uc7a5\ud55c \ud56d\ubaa9\ub4e4\uc744 \uc0ac\uc804\uc5d0 \uc870\ud68c\ud558\uc5ec \uc811\uadfc\ud560 \uc218 \uc788\uc2b5\ub2c8\ub2e4.\n\uc774 \ub808\uc2dc\ud53c\uc5d0\uc11c\ub294 PyTorch\ub97c \uc0ac\uc6a9\ud558\uc5ec \uc5ec\ub7ec \ubaa8\ub378\ub4e4\uc744 \ud558\ub098\uc758 \ud30c\uc77c\uc5d0 \uc5b4\ub5bb\uac8c \uc800\uc7a5\ud558\uace0\n\ubd88\ub7ec\uc624\ub294\uc9c0 \uc0b4\ud3b4\ubcf4\uaca0\uc2b5\ub2c8\ub2e4.\n\n\uc124\uc815\n---------\n\uc2dc\uc791\ud558\uae30 \uc804\uc5d0 ``torch`` \uac00 \uc5c6\ub2e4\uba74 \uc124\uce58\ud574\uc57c \ud569\ub2c8\ub2e4.\n\n::\n\n   pip install torch\n\n\n"
      ]
    },
    {
      "cell_type": "markdown",
      "metadata": {},
      "source": [
        "\ub2e8\uacc4(Steps)\n-------------\n\n1. \ub370\uc774\ud130 \ubd88\ub7ec\uc62c \ub54c \ud544\uc694\ud55c \ub77c\uc774\ube0c\ub7ec\ub9ac\ub4e4 \ubd88\ub7ec\uc624\uae30\n2. \uc2e0\uacbd\ub9dd\uc744 \uad6c\uc131\ud558\uace0 \ucd08\uae30\ud654\ud558\uae30\n3. \uc635\ud2f0\ub9c8\uc774\uc800 \ucd08\uae30\ud654\ud558\uae30\n4. \uc5ec\ub7ec \ubaa8\ub378\ub4e4 \uc800\uc7a5\ud558\uae30\n5. \uc5ec\ub7ec \ubaa8\ub378\ub4e4 \ubd88\ub7ec\uc624\uae30\n\n1. \ub370\uc774\ud130 \ubd88\ub7ec\uc62c \ub54c \ud544\uc694\ud55c \ub77c\uc774\ube0c\ub7ec\ub9ac\ub4e4 \ubd88\ub7ec\uc624\uae30\n~~~~~~~~~~~~~~~~~~~~~~~~~~~~~~~~~~~~~~~~~~~~~~~~~~~~~~\n\n\uc774 \ub808\uc2dc\ud53c\uc5d0\uc11c\ub294 ``torch`` \uc640 \uc5ec\uae30 \ud3ec\ud568\ub41c ``torch.nn`` \uc640 ``torch.optim` \uc744\n\uc0ac\uc6a9\ud558\uaca0\uc2b5\ub2c8\ub2e4.\n\n\n"
      ]
    },
    {
      "cell_type": "code",
      "execution_count": null,
      "metadata": {
        "collapsed": false
      },
      "outputs": [],
      "source": [
        "import torch\nimport torch.nn as nn\nimport torch.optim as optim"
      ]
    },
    {
      "cell_type": "markdown",
      "metadata": {},
      "source": [
        "2. \uc2e0\uacbd\ub9dd\uc744 \uad6c\uc131\ud558\uace0 \ucd08\uae30\ud654\ud558\uae30\n~~~~~~~~~~~~~~~~~~~~~~~~~~~~~~~~~~~~~~~~~~~~~~\n\n\uc608\ub97c \ub4e4\uc5b4, \uc774\ubbf8\uc9c0\ub97c \ud559\uc2b5\ud558\ub294 \uc2e0\uacbd\ub9dd\uc744 \ub9cc\ub4e4\uc5b4\ubcf4\uaca0\uc2b5\ub2c8\ub2e4. \ub354 \uc790\uc138\ud55c \ub0b4\uc6a9\uc740\n\uc2e0\uacbd\ub9dd \uad6c\uc131\ud558\uae30 \ub808\uc2dc\ud53c\ub97c \ucc38\uace0\ud574\uc8fc\uc138\uc694. \ubaa8\ub378\uc744 \uc800\uc7a5\ud560 2\uac1c\uc758 \ubcc0\uc218\ub4e4\uc744 \ub9cc\ub4ed\ub2c8\ub2e4.\n\n\n"
      ]
    },
    {
      "cell_type": "code",
      "execution_count": null,
      "metadata": {
        "collapsed": false
      },
      "outputs": [],
      "source": [
        "class Net(nn.Module):\n    def __init__(self):\n        super(Net, self).__init__()\n        self.conv1 = nn.Conv2d(3, 6, 5)\n        self.pool = nn.MaxPool2d(2, 2)\n        self.conv2 = nn.Conv2d(6, 16, 5)\n        self.fc1 = nn.Linear(16 * 5 * 5, 120)\n        self.fc2 = nn.Linear(120, 84)\n        self.fc3 = nn.Linear(84, 10)\n\n    def forward(self, x):\n        x = self.pool(F.relu(self.conv1(x)))\n        x = self.pool(F.relu(self.conv2(x)))\n        x = x.view(-1, 16 * 5 * 5)\n        x = F.relu(self.fc1(x))\n        x = F.relu(self.fc2(x))\n        x = self.fc3(x)\n        return x\n\nnetA = Net()\nnetB = Net()"
      ]
    },
    {
      "cell_type": "markdown",
      "metadata": {},
      "source": [
        "3. \uc635\ud2f0\ub9c8\uc774\uc800 \ucd08\uae30\ud654\ud558\uae30\n~~~~~~~~~~~~~~~~~~~~~~~~~~~~~~~\n\n\uc0dd\uc131\ud55c \ubaa8\ub378\ub4e4 \uac01\uac01\uc5d0 \ubaa8\uba58\ud140(momentum)\uc744 \uac16\ub294 SGD\ub97c \uc0ac\uc6a9\ud558\uaca0\uc2b5\ub2c8\ub2e4.\n\n\n"
      ]
    },
    {
      "cell_type": "code",
      "execution_count": null,
      "metadata": {
        "collapsed": false
      },
      "outputs": [],
      "source": [
        "optimizerA = optim.SGD(netA.parameters(), lr=0.001, momentum=0.9)\noptimizerB = optim.SGD(netB.parameters(), lr=0.001, momentum=0.9)"
      ]
    },
    {
      "cell_type": "markdown",
      "metadata": {},
      "source": [
        "4. \uc5ec\ub7ec \ubaa8\ub378\ub4e4 \uc800\uc7a5\ud558\uae30\n~~~~~~~~~~~~~~~~~~~~~~~~~~~\n\n\uad00\ub828\ub41c \ubaa8\ub4e0 \uc815\ubcf4\ub4e4\uc744 \ubaa8\uc544\uc11c \uc0ac\uc804\uc744 \uad6c\uc131\ud569\ub2c8\ub2e4.\n\n\n"
      ]
    },
    {
      "cell_type": "code",
      "execution_count": null,
      "metadata": {
        "collapsed": false
      },
      "outputs": [],
      "source": [
        "# \uc800\uc7a5\ud560 \uacbd\ub85c \uc9c0\uc815\nPATH = \"model.pt\"\n\ntorch.save({\n            'modelA_state_dict': netA.state_dict(),\n            'modelB_state_dict': netB.state_dict(),\n            'optimizerA_state_dict': optimizerA.state_dict(),\n            'optimizerB_state_dict': optimizerB.state_dict(),\n            }, PATH)"
      ]
    },
    {
      "cell_type": "markdown",
      "metadata": {},
      "source": [
        "5. \uc5ec\ub7ec \ubaa8\ub378\ub4e4 \ubd88\ub7ec\uc624\uae30\n~~~~~~~~~~~~~~~~~~~~~~~~~~~\n\n\uba3c\uc800 \ubaa8\ub378\uacfc \uc635\ud2f0\ub9c8\uc774\uc800\ub97c \ucd08\uae30\ud654\ud55c \ub4a4, \uc0ac\uc804\uc744 \ubd88\ub7ec\uc624\ub294 \uac83\uc744 \uae30\uc5b5\ud558\uc2ed\uc2dc\uc624.\n\n\n"
      ]
    },
    {
      "cell_type": "code",
      "execution_count": null,
      "metadata": {
        "collapsed": false
      },
      "outputs": [],
      "source": [
        "modelA = Net()\nmodelB = Net()\noptimModelA = optim.SGD(modelA.parameters(), lr=0.001, momentum=0.9)\noptimModelB = optim.SGD(modelB.parameters(), lr=0.001, momentum=0.9)\n\ncheckpoint = torch.load(PATH)\nmodelA.load_state_dict(checkpoint['modelA_state_dict'])\nmodelB.load_state_dict(checkpoint['modelB_state_dict'])\noptimizerA.load_state_dict(checkpoint['optimizerA_state_dict'])\noptimizerB.load_state_dict(checkpoint['optimizerB_state_dict'])\n\nmodelA.eval()\nmodelB.eval()\n# - \ub610\ub294 -\nmodelA.train()\nmodelB.train()"
      ]
    },
    {
      "cell_type": "markdown",
      "metadata": {},
      "source": [
        "\ucd94\ub860(inference)\uc744 \uc2e4\ud589\ud558\uae30 \uc804\uc5d0 ``model.eval()`` \uc744 \ud638\ucd9c\ud558\uc5ec \ub4dc\ub86d\uc544\uc6c3(dropout)\uacfc\n\ubc30\uce58 \uc815\uaddc\ud654 \uce35(batch normalization layer)\uc744 \ud3c9\uac00(evaluation) \ubaa8\ub4dc\ub85c \ubc14\uafd4\uc57c\ud55c\ub2e4\ub294\n\uac83\uc744 \uae30\uc5b5\ud558\uc138\uc694. \uc774\uac83\uc744 \ube7c\uba39\uc73c\uba74 \uc77c\uad00\uc131 \uc5c6\ub294 \ucd94\ub860 \uacb0\uacfc\ub97c \uc5bb\uac8c \ub429\ub2c8\ub2e4.\n\n\ub9cc\uc57d \ud559\uc2b5\uc744 \uacc4\uc18d\ud558\uae38 \uc6d0\ud55c\ub2e4\uba74 ``model.train()`` \uc744 \ud638\ucd9c\ud558\uc5ec \uc774 \uce35(layer)\ub4e4\uc774\n\ud559\uc2b5 \ubaa8\ub4dc\uc778\uc9c0 \ud655\uc778(ensure)\ud558\uc138\uc694.\n\n\ucd95\ud558\ud569\ub2c8\ub2e4! \uc9c0\uae08\uae4c\uc9c0 PyTorch\uc5d0\uc11c \uc5ec\ub7ec \ubaa8\ub378\ub4e4\uc744 \uc800\uc7a5\ud558\uace0 \ubd88\ub7ec\uc654\uc2b5\ub2c8\ub2e4.\n\n\ub354 \uc54c\uc544\ubcf4\uae30\n------------\n\n\ub2e4\ub978 \ub808\uc2dc\ud53c\ub97c \ub458\ub7ec\ubcf4\uace0 \uacc4\uc18d \ubc30\uc6cc\ubcf4\uc138\uc694:\n\n- :doc:`/recipes/recipes/saving_and_loading_a_general_checkpoint`\n- :doc:`/recipes/recipes/saving_multiple_models_in_one_file`\n\n"
      ]
    },
    {
      "cell_type": "code",
      "execution_count": null,
      "metadata": {
        "collapsed": false
      },
      "outputs": [],
      "source": [
        "#"
      ]
    }
  ],
  "metadata": {
    "kernelspec": {
      "display_name": "Python 3",
      "language": "python",
      "name": "python3"
    },
    "language_info": {
      "codemirror_mode": {
        "name": "ipython",
        "version": 3
      },
      "file_extension": ".py",
      "mimetype": "text/x-python",
      "name": "python",
      "nbconvert_exporter": "python",
      "pygments_lexer": "ipython3",
      "version": "3.6.7"
    }
  },
  "nbformat": 4,
  "nbformat_minor": 0
}