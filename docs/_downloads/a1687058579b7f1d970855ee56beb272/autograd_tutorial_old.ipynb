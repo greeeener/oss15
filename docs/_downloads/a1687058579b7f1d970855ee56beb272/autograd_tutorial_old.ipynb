{
  "cells": [
    {
      "cell_type": "code",
      "execution_count": null,
      "metadata": {
        "collapsed": false
      },
      "outputs": [],
      "source": [
        "%matplotlib inline"
      ]
    },
    {
      "cell_type": "markdown",
      "metadata": {},
      "source": [
        "\nAutograd\n========\n\nAutograd\ub294 \uc790\ub3d9 \ubbf8\ubd84\uc744 \uc218\ud589\ud558\ub294 torch\uc758 \ud575\uc2ec \ud328\ud0a4\uc9c0\ub85c, \uc790\ub3d9 \ubbf8\ubd84\uc744 \uc704\ud574\n\ud14c\uc78e(tape) \uae30\ubc18 \uc2dc\uc2a4\ud15c\uc744 \uc0ac\uc6a9\ud569\ub2c8\ub2e4.\n\n\uc21c\uc804\ud30c(forward) \ub2e8\uacc4\uc5d0\uc11c autograd \ud14c\uc78e\uc740 \uc218\ud589\ud558\ub294 \ubaa8\ub4e0 \uc5f0\uc0b0\uc744 \uae30\uc5b5\ud569\ub2c8\ub2e4.\n\uadf8\ub9ac\uace0, \uc5ed\uc804\ud30c(backward) \ub2e8\uacc4\uc5d0\uc11c \uc5f0\uc0b0\ub4e4\uc744 \uc7ac\ud604(replay)\ud569\ub2c8\ub2e4.\n\n\uc5f0\uc0b0 \uae30\ub85d\uc744 \ucd94\uc801\ud558\ub294 Tensor\n----------------------------\n\nAutograd\uc5d0\uc11c ``requires_grad=True`` \ub85c \uc124\uc815\ub41c \uc785\ub825 ``Tensor`` \uc758 \uc5f0\uc0b0\uc740\n\uae30\ub85d\ub429\ub2c8\ub2e4. \uc5ed\uc804\ud30c \ub2e8\uacc4 \uc5f0\uc0b0 \ud6c4\uc5d0, \uc774 Tensor\uc5d0 \ub300\ud55c \ubcc0\ud654\ub3c4(grdient)\ub294 ``.grad``\n\uc18d\uc131\uc5d0 \ub204\uc801\ub429\ub2c8\ub2e4.\n\nAutograd \uad6c\ud604\uc5d0\uc11c \ub9e4\uc6b0 \uc911\uc694\ud55c \ud074\ub798\uc2a4\uac00 \ud558\ub098 \ub354 \uc788\ub294\ub370, \uc774\uac83\uc740 \ubc14\ub85c ``Function``\n\ud074\ub798\uc2a4\uc785\ub2c8\ub2e4. ``Tensor`` \uc640 ``Function`` \uc740 \uc11c\ub85c \uc5f0\uacb0\ub418\uc5b4 \uc788\uc73c\uba70, \ubaa8\ub4e0 \uc5f0\uc0b0 \uacfc\uc815\uc744\n\ubd80\ud638\ud654(encode)\ud558\uc5ec \uc21c\ud658\ud558\uc9c0 \uc54a\ub294 \uadf8\ub798\ud504(acyclic graph)\ub97c \uc0dd\uc131\ud569\ub2c8\ub2e4. \uac01 \ubcc0\uc218\ub294\n``.grad_fn`` \uc18d\uc131\uc744 \uac16\uace0 \uc788\ub294\ub370, \uc774\ub294 ``Tensor`` \ub97c \uc0dd\uc131\ud55c ``Function`` \uc744\n\ucc38\uc870\ud558\uace0 \uc788\uc2b5\ub2c8\ub2e4. (\ub2e8, \uc0ac\uc6a9\uc790\uac00 \ub9cc\ub4e0 Tensor\ub294 \uc608\uc678\ub85c, \uc774 \ub54c ``grad_fn`` \uc740\n``None`` \uc785\ub2c8\ub2e4.)\n\n\ub3c4\ud568\uc218\ub97c \uacc4\uc0b0\ud558\uae30 \uc704\ud574\uc11c\ub294 ``Tensor`` \uc758 ``.backward()`` \ub97c \ud638\ucd9c\ud558\uba74 \ub429\ub2c8\ub2e4.\n``Tensor`` \uac00 \uc2a4\uce7c\ub77c(scalar)\uc778 \uacbd\uc6b0(\uc608. \ud558\ub098\uc758 \uc694\uc18c\ub9cc \uac16\ub294 \ub4f1)\uc5d0\ub294, ``backward`` \uc5d0\n\uc778\uc790\ub97c \uc815\ud574\uc904 \ud544\uc694\uac00 \uc5c6\uc2b5\ub2c8\ub2e4. \ud558\uc9c0\ub9cc \uc5ec\ub7ec \uac1c\uc758 \uc694\uc18c\ub97c \uac16\uace0 \uc788\uc744\n\ub54c\ub294 tensor\uc758 \ubaa8\uc591\uc744 ``gradient`` \uc758 \uc778\uc790\ub85c \uc9c0\uc815\ud560 \ud544\uc694\uac00 \uc788\uc2b5\ub2c8\ub2e4.\n\n"
      ]
    },
    {
      "cell_type": "code",
      "execution_count": null,
      "metadata": {
        "collapsed": false
      },
      "outputs": [],
      "source": [
        "import torch"
      ]
    },
    {
      "cell_type": "markdown",
      "metadata": {},
      "source": [
        "tensor\ub97c \uc0dd\uc131\ud558\uace0 requires_grad=True\ub97c \uc124\uc815\ud558\uc5ec \uc5f0\uc0b0\uc744 \uae30\ub85d\ud569\ub2c8\ub2e4.\n\n"
      ]
    },
    {
      "cell_type": "code",
      "execution_count": null,
      "metadata": {
        "collapsed": false
      },
      "outputs": [],
      "source": [
        "x = torch.ones(2, 2, requires_grad=True)\nprint(x)"
      ]
    },
    {
      "cell_type": "code",
      "execution_count": null,
      "metadata": {
        "collapsed": false
      },
      "outputs": [],
      "source": [
        "print(x.data)"
      ]
    },
    {
      "cell_type": "code",
      "execution_count": null,
      "metadata": {
        "collapsed": false
      },
      "outputs": [],
      "source": [
        "print(x.grad)"
      ]
    },
    {
      "cell_type": "code",
      "execution_count": null,
      "metadata": {
        "collapsed": false
      },
      "outputs": [],
      "source": [
        "print(x.grad_fn)  # x\ub294 \uc9c1\uc811 \uc0dd\uc131\ud558\uc600\uae30 \ub54c\ubb38\uc5d0 \uc544\ubb34\ub7f0 \uac12\ub3c4 \uc5c6\uc2b5\ub2c8\ub2e4."
      ]
    },
    {
      "cell_type": "markdown",
      "metadata": {},
      "source": [
        "x\uc5d0 \uc5f0\uc0b0\uc744 \uc218\ud589\ud569\ub2c8\ub2e4:\n\n"
      ]
    },
    {
      "cell_type": "code",
      "execution_count": null,
      "metadata": {
        "collapsed": false
      },
      "outputs": [],
      "source": [
        "y = x + 2\nprint(y)"
      ]
    },
    {
      "cell_type": "markdown",
      "metadata": {},
      "source": [
        "y \ub294 \uc5f0\uc0b0\uc758 \uacb0\uacfc\ub85c \uc0dd\uc131\ub41c \uac83\uc774\ubbc0\ub85c, grad_fn\uc744 \uac16\uc2b5\ub2c8\ub2e4.\n\n"
      ]
    },
    {
      "cell_type": "code",
      "execution_count": null,
      "metadata": {
        "collapsed": false
      },
      "outputs": [],
      "source": [
        "print(y.grad_fn)"
      ]
    },
    {
      "cell_type": "markdown",
      "metadata": {},
      "source": [
        "y\uc5d0 \ub2e4\ub978 \uc5f0\uc0b0\uc744 \uc218\ud589\ud569\ub2c8\ub2e4.\n\n"
      ]
    },
    {
      "cell_type": "code",
      "execution_count": null,
      "metadata": {
        "collapsed": false
      },
      "outputs": [],
      "source": [
        "z = y * y * 3\nout = z.mean()\n\nprint(z, out)"
      ]
    },
    {
      "cell_type": "markdown",
      "metadata": {},
      "source": [
        "``.requires_grad_( ... )`` \ub294 \uae30\uc874 Tensor\uc758 ``requires_grad`` \uac12\uc744 \ubc14\uafd4\uce58\uae30\ud558\uc5ec\n\ubcc0\uacbd\ud569\ub2c8\ub2e4. \uc785\ub825\uac12\uc774 \uc9c0\uc815\ub418\uc9c0 \uc54a\uc73c\uba74 \uae30\ubcf8\uac12\uc740 ``False`` \uc785\ub2c8\ub2e4.\n\n"
      ]
    },
    {
      "cell_type": "code",
      "execution_count": null,
      "metadata": {
        "collapsed": false
      },
      "outputs": [],
      "source": [
        "a = torch.randn(2, 2)\na = ((a * 3) / (a - 1))\nprint(a.requires_grad)\na.requires_grad_(True)\nprint(a.requires_grad)\nb = (a * a).sum()\nprint(b.grad_fn)"
      ]
    },
    {
      "cell_type": "markdown",
      "metadata": {},
      "source": [
        "\ubcc0\ud654\ub3c4(Gradient)\n----------------\n\n\uc774\uc81c \uc5ed\uc804\ud30c\ub97c \ud55c \ud6c4 \ubcc0\ud654\ub3c4 d(out)/dx\ub97c \ucd9c\ub825\ud574\ubcf4\uaca0\uc2b5\ub2c8\ub2e4.\n\n"
      ]
    },
    {
      "cell_type": "code",
      "execution_count": null,
      "metadata": {
        "collapsed": false
      },
      "outputs": [],
      "source": [
        "out.backward()\nprint(x.grad)"
      ]
    },
    {
      "cell_type": "markdown",
      "metadata": {},
      "source": [
        "\uae30\ubcf8\uc801\uc73c\ub85c \ubcc0\ud654\ub3c4 \uc5f0\uc0b0\uc740 \uadf8\ub798\ud504 \ub0b4\uc758 \ubaa8\ub4e0 \ub0b4\ubd80 \ubc84\ud37c\ub97c \ub0a0\ub824\ubc84\ub9ac\ubbc0\ub85c,\n\uadf8\ub798\ud504\uc758 \uc77c\ubd80\ub97c 2\ubc88 \uc5ed\uc804\ud30c\ud558\ub824\uba74 \uccab\ubc88\uc9f8 \uc5ed\uc804\ud30c \uc2dc\uc5d0 \ubbf8\ub9ac\n``retain_graph = True`` \uc744 \uc9c0\uc815\ud574\ub458 \ud544\uc694\uac00 \uc788\uc2b5\ub2c8\ub2e4.\n\n"
      ]
    },
    {
      "cell_type": "code",
      "execution_count": null,
      "metadata": {
        "collapsed": false
      },
      "outputs": [],
      "source": [
        "x = torch.ones(2, 2, requires_grad=True)\ny = x + 2\ny.backward(torch.ones(2, 2), retain_graph=True)\n# retain_graph\ub294 \ub0b4\ubd80 \ubc84\ud37c\ub4e4\uc774 \uc9c0\uc6cc\uc9c0\ub294 \uac83\uc744 \ub9c9\uc2b5\ub2c8\ub2e4.\nprint(x.grad)"
      ]
    },
    {
      "cell_type": "code",
      "execution_count": null,
      "metadata": {
        "collapsed": false
      },
      "outputs": [],
      "source": [
        "z = y * y\nprint(z)"
      ]
    },
    {
      "cell_type": "markdown",
      "metadata": {},
      "source": [
        "\ubb34\uc791\uc704 \uacbd\uc0ac\ub3c4\ub85c \uc5ed\uc804\ud30c\ud574\ubcf4\uaca0\uc2b5\ub2c8\ub2e4\n\n"
      ]
    },
    {
      "cell_type": "code",
      "execution_count": null,
      "metadata": {
        "collapsed": false
      },
      "outputs": [],
      "source": [
        "gradient = torch.randn(2, 2)\n\n# \ub9cc\uc57d \uc55e\uc5d0\uc11c retain_graph\ub97c \ud558\uc9c0 \uc54a\uc558\ub2e4\uba74 \uc5ec\uae30\uc11c \uc5d0\ub7ec\uac00 \ubc1c\uc0dd\ud560 \uac83\uc785\ub2c8\ub2e4.\ny.backward(gradient)\n\nprint(x.grad)"
      ]
    },
    {
      "cell_type": "markdown",
      "metadata": {},
      "source": [
        "\ub610\ud55c ``with torch.no_grad():`` \ub85c \ucf54\ub4dc \ube14\ub7ed\uc744 \uac10\uc2f8\uc11c autograd\uac00\n``.requires_grad=True`` \uc778 Tensor\ub4e4\uc758 \uc5f0\uc0b0 \uae30\ub85d\uc744 \ucd94\uc801\ud558\ub294 \uac83\uc744 \uba48\ucd9c \uc218 \uc788\uc2b5\ub2c8\ub2e4:\n\n"
      ]
    },
    {
      "cell_type": "code",
      "execution_count": null,
      "metadata": {
        "collapsed": false
      },
      "outputs": [],
      "source": [
        "print(x.requires_grad)\nprint((x ** 2).requires_grad)\n\nwith torch.no_grad():\n\tprint((x ** 2).requires_grad)"
      ]
    }
  ],
  "metadata": {
    "kernelspec": {
      "display_name": "Python 3",
      "language": "python",
      "name": "python3"
    },
    "language_info": {
      "codemirror_mode": {
        "name": "ipython",
        "version": 3
      },
      "file_extension": ".py",
      "mimetype": "text/x-python",
      "name": "python",
      "nbconvert_exporter": "python",
      "pygments_lexer": "ipython3",
      "version": "3.6.7"
    }
  },
  "nbformat": 4,
  "nbformat_minor": 0
}