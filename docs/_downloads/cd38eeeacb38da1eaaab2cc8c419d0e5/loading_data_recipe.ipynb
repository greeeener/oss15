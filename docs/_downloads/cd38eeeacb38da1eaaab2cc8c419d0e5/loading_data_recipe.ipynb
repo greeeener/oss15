{
  "cells": [
    {
      "cell_type": "code",
      "execution_count": null,
      "metadata": {
        "collapsed": false
      },
      "outputs": [],
      "source": [
        "%matplotlib inline"
      ]
    },
    {
      "cell_type": "markdown",
      "metadata": {},
      "source": [
        "\nPyTorch\uc5d0\uc11c \ub370\uc774\ud130 \ubd88\ub7ec\uc624\uae30\n=======================\nPyTorch\ub294 \uc778\uacf5\uc2e0\uacbd\ub9dd\uc744 \ub9cc\ub4dc\ub294\ub370 \ud544\uc694\ud55c \ub2e4\uc591\ud55c \uae30\ubcf8 \uc694\uc18c\ub97c \uac04\ub2e8\ud558\uace0 \uc9c1\uad00\uc801\uc774\uba70\n\uc548\uc815\uc801\uc778 API\ub85c \uc81c\uacf5\ud569\ub2c8\ub2e4. PyTorch\ub294 \uacf5\uc6a9 \ub370\uc774\ud130\uc14b\uc744 \uc27d\uac8c \uc0ac\uc6a9\ud560 \uc218 \uc788\ub3c4\ub85d\n\ub3c4\uc640\uc8fc\ub294 \ud328\ud0a4\uc9c0\ub97c \ud3ec\ud568\ud558\uace0 \uc788\uc2b5\ub2c8\ub2e4.\n\n\uac1c\uc694\n------------\nPyTorch \ub370\uc774\ud130 \ubd88\ub7ec\uc624\uae30 \uae30\ub2a5\uc758 \ud575\uc2ec\uc740\n`torch.utils.data.DataLoader <https://pytorch.org/docs/stable/data.html#torch.utils.data.DataLoader>`__\n\ud074\ub798\uc2a4\uc785\ub2c8\ub2e4. \ub370\uc774\ud130\ub97c \ud30c\uc774\uc36c iterable\ub85c\uc368 \uc811\uadfc\ud560 \uc218 \uc788\uac8c \ud574\uc8fc\ub294 \ud074\ub798\uc2a4\uc785\ub2c8\ub2e4.\n\ub610\ud55c, `torch.utils.data.Dataset <https://pytorch.org/docs/stable/data.html#torch.utils.data.Dataset>`__\n\ud074\ub798\uc2a4\ub97c \ud1b5\ud574 PyTorch\uc5d0 \ub0b4\uc7a5\ub41c \ub2e4\uc591\ud55c \uace0\ud488\uc9c8 \ub370\uc774\ud130\uc14b\uc744 \uc774\uc6a9\ud558\uc2e4 \uc218 \uc788\uc2b5\ub2c8\ub2e4.\n\n\n\uac1c\ubcc4 \ub370\uc774\ud130\uc14b\uc740 \uc544\ub798 \ud328\ud0a4\uc9c0\uc5d0\uc11c \ud655\uc778\ud558\uc2e4 \uc218 \uc788\uc73c\uba70, \ub370\uc774\ud130\uc14b\uc740 \uacc4\uc18d\ud574\uc11c \ucd94\uac00\ub420 \uc608\uc815\uc785\ub2c8\ub2e4.\n\n* `torchvision <https://pytorch.org/docs/stable/torchvision/datasets.html>`__\n* `torchaudio <https://pytorch.org/audio/datasets.html>`__\n* `torchtext <https://pytorch.org/text/datasets.html>`__\n\n\n\uc774\ubc88 \ub808\uc2dc\ud53c\uc5d0\uc11c\ub294 ``torchaudio.datasets.YESNO`` \ub370\uc774\ud130\uc14b\uc744 \uc0b4\ud3b4\ubcf4\uba74\uc11c,\nPyTorch ``Dataset`` \uc5d0\uc11c PyTorch ``DataLoader`` \ub85c \ub370\uc774\ud130\ub97c \ud6a8\uacfc\uc801\uc774\uace0 \ud6a8\uc728\uc801\uc73c\ub85c\n\ubd88\ub7ec\uc624\ub294 \ubc29\ubc95\uc744 \uc0b4\ud3b4\ubcf4\uaca0\uc2b5\ub2c8\ub2e4.\n\n\ucd08\uae30 \uc124\uc815\n-----\n\uc2dc\uc791\ud558\uae30 \uc804\uc5d0, \ub370\uc774\ud130\uc14b\uc774 \ud3ec\ud568\ub41c ``torchaudio`` \ud328\ud0a4\uc9c0\ub97c \uc124\uce58\ud569\ub2c8\ub2e4.\n\n::\n\n   pip install torchaudio\n\n\n\n"
      ]
    },
    {
      "cell_type": "markdown",
      "metadata": {},
      "source": [
        "\ub2e8\uacc4(Steps)\n-----\n\n1. \ub370\uc774\ud130\ub97c \ubd88\ub7ec\uc624\ub294\ub370 \ud544\uc694\ud55c \ub77c\uc774\ube0c\ub7ec\ub9ac import\ud558\uae30\n2. \ub370\uc774\ud130 \uc811\uadfc\ud558\uae30\n3. \ub370\uc774\ud130 \ubd88\ub7ec\uc624\uae30\n4. \ub370\uc774\ud130 \uc21c\ud68c\ud558\uae30\n5. [\uc120\ud0dd \uc0ac\ud56d] \ub370\uc774\ud130 \uc2dc\uac01\ud654\ud558\uae30\n\n\n1. \ub370\uc774\ud130\ub97c \ubd88\ub7ec\uc624\ub294\ub370 \ud544\uc694\ud55c \ub77c\uc774\ube0c\ub7ec\ub9ac import\ud558\uae30\n~~~~~~~~~~~~~~~~~~~~~~~~~~~~~~~~~~~~~~~~~~~~~~~~~~~~~~\n\n\uc774\ubc88 \ub808\uc2dc\ud53c\ub294 ``torch`` \uc640 ``torchaudio`` \ub97c \uc0ac\uc6a9\ud569\ub2c8\ub2e4. \ub2e4\ub978 \ub0b4\uc7a5 \ub370\uc774\ud130\uc14b\uc774\n\ud544\uc694\ud558\ub2e4\uba74 ``torchvision`` \ud639\uc740 ``torchtext`` \ub97c \uc124\uce58\ud574\uc11c \uc0ac\uc6a9\ud574\ub3c4 \ub429\ub2c8\ub2e4.\n\n\n"
      ]
    },
    {
      "cell_type": "code",
      "execution_count": null,
      "metadata": {
        "collapsed": false
      },
      "outputs": [],
      "source": [
        "import torch\nimport torchaudio"
      ]
    },
    {
      "cell_type": "markdown",
      "metadata": {},
      "source": [
        "2. \ub370\uc774\ud130\uc5d0 \uc811\uadfc\ud558\uae30\n~~~~~~~~~~~~~~~~~~~~~~~~~~~~~~~~~~~~~\n\n``torchaudio`` \uc758 YesNo \ub370\uc774\ud130\uc14b\uc740 \ud55c \uc0ac\ub78c\uc774 \ud788\ube0c\ub9ac\uc5b4\ub85c yes \ud639\uc740\nno\ub97c \ub179\uc74c\ud55c \uc624\ub514\uc624 \ud074\ub9bd 60\uac1c\ub85c \uad6c\uc131\ub418\uc5b4 \uc788\uc2b5\ub2c8\ub2e4. \uc624\ub514\uc624 \ud074\ub9bd \uac01\uac01\uc758 \uae38\uc774\ub294 \ub2e8\uc5b4 8\uac1c\uc785\ub2c8\ub2e4.\n(`\ub354 \uc54c\uc544\ubcf4\uae30 <https://www.openslr.org/1/>`__).\n\n``torchaudio.datasets.YESNO`` \ud074\ub798\uc2a4\ub97c \uc0ac\uc6a9\ud558\uc5ec YesNo \ub370\uc774\ud130\uc14b\uc744 \uc0dd\uc131\ud569\ub2c8\ub2e4.\n\n::\n\n   torchaudio.datasets.YESNO(\n     root,\n     url='http://www.openslr.org/resources/1/waves_yesno.tar.gz',\n     folder_in_archive='waves_yesno',\n     download=False,\n     transform=None,\n     target_transform=None)\n\n\uac01\uac01\uc758 \ub370\uc774\ud130 \ud56d\ubaa9 (item)\uc740 \ud29c\ud50c \ud615\ud0dc (waveform: \ud30c\ud615, sample_rate: \uc0d8\ud50c \uc18d\ub3c4, labels: \ub77c\ubca8)\ub97c \uac16\uc2b5\ub2c8\ub2e4.\n\nYesNo \ub370\uc774\ud130\uc14b\uc744 \ubd88\ub7ec\uc62c \ub54c ``root`` \ub9e4\uac1c\ubcc0\uc218\ub294 \uaf2d \uc9c0\uc815\ud574\uc8fc\uc154\uc57c \ud569\ub2c8\ub2e4. ``root`` \ub294\n\ud559\uc2b5(training) \ubc0f \ud14c\uc2a4\ud2b8(testing) \ub370\uc774\ud130\uc14b\uc774 \uc874\uc7ac\ud558\ub294 \uc704\uce58\ub97c \uac00\ub974\ucf1c\uc57c \ud569\ub2c8\ub2e4.\n\uadf8 \uc678\uc758 \ub9e4\uac1c\ubcc0\uc218\ub294 \uc120\ud0dd \uc0ac\ud56d\uc774\uba70, \uc704 \uc608\uc2dc\uc5d0\uc11c \uae30\ubcf8\uac12\uc744 \ud655\uc778\ud558\uc2e4 \uc788\uc2b5\ub2c8\ub2e4. \uc544\ub798\uc640\n\uac19\uc740 \ub9e4\uac1c\ubcc0\uc218\ub3c4 \uc0ac\uc6a9 \uac00\ub2a5\ud569\ub2c8\ub2e4.\n\n* ``download``: \ucc38\uc778 \uacbd\uc6b0, \ub370\uc774\ud130\uc14b \ud30c\uc77c\uc744 \uc778\ud130\ub137\uc5d0\uc11c \ub2e4\uc6b4\ubc1b\uace0 root \ud3f4\ub354\uc5d0 \uc800\uc7a5\ud569\ub2c8\ub2e4. \ud30c\uc77c\uc774 \uc774\ubbf8 \uc874\uc7ac\ud558\uba74 \ub2e4\uc2dc \ub2e4\uc6b4\ubc1b\uc9c0 \uc54a\uc2b5\ub2c8\ub2e4.\n* ``transform``: \ub370\uc774\ud130\ub97c \ubcc0\ud658\ud558\uc5ec \ud559\uc2b5\uc5d0 \uc0ac\uc6a9\ud560 \uc218 \uc788\ub3c4\ub85d \uc774\uc5b4\ubd99\uc774\uace0 \ube44\uc815\uaddc\ud654\ub41c \ud615\ud0dc\ub85c \ubd88\ub7ec\uc624\uc2e4 \uc218 \uc788\uc2b5\ub2c8\ub2e4. \ub77c\uc774\ube0c\ub7ec\ub9ac\ub9c8\ub2e4 \ub2e4\uc591\ud55c transformation\uc744 \uc9c0\uc6d0\ud558\uace0 \uc788\uc73c\uba70, \uc55e\uc73c\ub85c\ub3c4 \ucd94\uac00\ub420 \uc608\uc815\uc785\ub2c8\ub2e4.\n* ``target_transform``: \ud0c0\uac9f \ub370\uc774\ud130\ub97c \ubcc0\ud658\ud558\uae30 \uc704\ud55c \ud568\uc218 \ud639\uc740 transform\uc785\ub2c8\ub2e4.\n\n\uc774\uc81c YesNo \ub370\uc774\ud130\ub97c \ud655\uc778\ud574\ubd05\uc2dc\ub2e4:\n\n"
      ]
    },
    {
      "cell_type": "code",
      "execution_count": null,
      "metadata": {
        "collapsed": false
      },
      "outputs": [],
      "source": [
        "# YesNo \uc548\uc5d0 \uac01\uac01\uc758 \ub370\uc774\ud130 \ud56d\ubaa9\uc740 \ud29c\ud50c \ud615\ud0dc (\ud30c\ud615, \uc0d8\ud50c \uc18d\ub3c4, \ub77c\ubca8)\ub97c \uac00\uc9c0\uba70,\n# \uc774\ub54c labels\ub294 0(no)\uacfc 1(yes)\uc744 \ub2f4\uc740 \ub9ac\uc2a4\ud2b8 \ud615\ud0dc\ub85c \ub418\uc5b4 \uc788\uc2b5\ub2c8\ub2e4.\nyesno_data_trainset = torchaudio.datasets.YESNO('./', download=True)\n\n# \uc2e4\uc81c \ub370\uc774\ud130\uc5d0 \uc811\uadfc\ud574\uc11c yesno_data\uc758 \ud615\ud0dc\ub97c \ud655\uc778\ud569\ub2c8\ub2e4. \uc138 \ubc88\uc9f8 \ud56d\ubaa9\uc744 \uc608\uc2dc\ub85c \uc0b4\ud3b4\ubd05\ub2c8\ub2e4.\nn = 3\nwaveform, sample_rate, labels = yesno_data[n]\nprint(\"Waveform: {}\\nSample rate: {}\\nLabels: {}\".format(waveform, sample_rate, labels))"
      ]
    },
    {
      "cell_type": "markdown",
      "metadata": {},
      "source": [
        "\uc2e4\uc81c \uc0c1\ud669\uc5d0\uc11c\ub294 \ub370\uc774\ud130\ub97c \"\ud559\uc2b5(training)\" \ub370\uc774\ud130\uc14b\uacfc \"\ud14c\uc2a4\ud2b8(testing)\" \ub370\uc774\ud130\uc14b\uc73c\ub85c \ub098\ub204\ub294 \uac83\uc774\n\uad8c\uc7a5\ub429\ub2c8\ub2e4. \ubaa8\ub378\uc758 \uc131\ub2a5\uc744 \uc81c\ub300\ub85c \ud3c9\uac00\ud558\ub824\uba74 \ud559\uc2b5\uc5d0 \uc4f0\uc774\uc9c0 \uc54a\uc740 out-of-sample\n\ub370\uc774\ud130\ub97c \uc774\uc6a9\ud574\uc57c \ud558\uae30 \ub54c\ubb38\uc785\ub2c8\ub2e4.\n\n3. \ub370\uc774\ud130 \ubd88\ub7ec\uc624\uae30\n~~~~~~~~~~~~~~~~~~~~~~~\n\n\ub370\uc774\ud130\uc14b\uc5d0 \uc131\uacf5\uc801\uc73c\ub85c \uc811\uadfc\ud588\uc73c\ub2c8, \uc774\uc81c \ub370\uc774\ud130\uc14b\uc744 ``torch.utils.data.DataLoader`` \ub85c \ub118\uaca8\uc90d\ub2c8\ub2e4.\n``DataLoader`` \ub294 \ub370\uc774\ud130\uc14b\uc744 sampler\uc640 \uc870\ud569\uc2dc\ucf1c \ub370\uc774\ud130\uc14b\uc744 \uc21c\ud68c\ud560 \uc218 \uc788\ub294 iterable\uc744 \ub9cc\ub4e4\uc5b4\uc90d\ub2c8\ub2e4.\n\n\n"
      ]
    },
    {
      "cell_type": "code",
      "execution_count": null,
      "metadata": {
        "collapsed": false
      },
      "outputs": [],
      "source": [
        "data_loader = torch.utils.data.DataLoader(yesno_data,\n                                          batch_size=1,\n                                          shuffle=True)"
      ]
    },
    {
      "cell_type": "markdown",
      "metadata": {},
      "source": [
        "4. \ub370\uc774\ud130 \uc21c\ud68c\ud558\uae30\n~~~~~~~~~~~~~~~~~~~~~~~~~~~~\n\n\uc774\uc81c ``data_loader`` \ub97c \uc774\uc6a9\ud574\uc11c \ub370\uc774\ud130\ub97c \uc21c\ud68c\ud560 \uc218 \uc788\uc2b5\ub2c8\ub2e4. \ubaa8\ub378\uc744 \ud559\uc2b5\ud558\ub824\uba74 \uc774\ucc98\ub7fc\n\ub370\uc774\ud130\ub97c \uc21c\ud68c\ud560 \uc218 \uc788\uc5b4\uc57c \ud569\ub2c8\ub2e4. \uc544\ub798 \uc608\uc2dc\ub97c \ubcf4\uc2dc\uba74 ``data_loader`` \uc548\uc5d0 \uc788\ub294 \uac01\uac01\uc758\n\ub370\uc774\ud130 \ud56d\ubaa9\uc774 \ud30c\ud615, \uc0d8\ud50c \uc18d\ub3c4, \ub77c\ubca8\uc744 \ub2f4\uc740 \ud150\uc11c\ub85c \ubc14\ub00c\uc5c8\uc74c\uc744 \ud655\uc778\ud560 \uc218 \uc788\uc2b5\ub2c8\ub2e4.\n\n\n"
      ]
    },
    {
      "cell_type": "code",
      "execution_count": null,
      "metadata": {
        "collapsed": false
      },
      "outputs": [],
      "source": [
        "for data in data_loader:\n  print(\"Data: \", data)\n  print(\"Waveform: {}\\nSample rate: {}\\nLabels: {}\".format(data[0], data[1], data[2]))\n  break"
      ]
    },
    {
      "cell_type": "markdown",
      "metadata": {},
      "source": [
        "5. [\uc120\ud0dd \uc0ac\ud56d] \ub370\uc774\ud130 \uc2dc\uac01\ud654\ud558\uae30\n~~~~~~~~~~~~~~~~~~~~~~~~~~~~~~~~~~~~\n\n``DataLoader`` \uc758 \ub370\uc774\ud130\ub97c \uc2dc\uac01\ud654\ud574\uc11c \ub354 \uc790\uc138\ud788 \ud655\uc778\ud574\ubcf4\uc2e4 \uc218 \uc788\uc2b5\ub2c8\ub2e4.\n\n\n"
      ]
    },
    {
      "cell_type": "code",
      "execution_count": null,
      "metadata": {
        "collapsed": false
      },
      "outputs": [],
      "source": [
        "import matplotlib.pyplot as plt\n\nprint(data[0][0].numpy())\n\nplt.figure()\nplt.plot(waveform.t().numpy())"
      ]
    },
    {
      "cell_type": "markdown",
      "metadata": {},
      "source": [
        "\ucd95\ud558\ub4dc\ub9bd\ub2c8\ub2e4! PyTorch\uc5d0\uc11c \ub370\uc774\ud130\ub97c \ubd88\ub7ec\uc624\ub294\ub370 \uc131\uacf5\ud558\uc168\uc2b5\ub2c8\ub2e4.\n\n\ub354 \uc54c\uc544\ubcf4\uae30\n----------\n\n\ub2e4\ub978 \ub808\uc2dc\ud53c\ub97c \ub458\ub7ec\ubcf4\uace0 \uacc4\uc18d \ubc30\uc6cc\ubcf4\uc138\uc694:\n\n- :doc:`/recipes/recipes/defining_a_neural_network`\n- :doc:`/recipes/recipes/what_is_state_dict`\n\n"
      ]
    }
  ],
  "metadata": {
    "kernelspec": {
      "display_name": "Python 3",
      "language": "python",
      "name": "python3"
    },
    "language_info": {
      "codemirror_mode": {
        "name": "ipython",
        "version": 3
      },
      "file_extension": ".py",
      "mimetype": "text/x-python",
      "name": "python",
      "nbconvert_exporter": "python",
      "pygments_lexer": "ipython3",
      "version": "3.6.7"
    }
  },
  "nbformat": 4,
  "nbformat_minor": 0
}