{
  "cells": [
    {
      "cell_type": "code",
      "execution_count": null,
      "metadata": {
        "collapsed": false
      },
      "outputs": [],
      "source": [
        "%matplotlib inline"
      ]
    },
    {
      "cell_type": "markdown",
      "metadata": {},
      "source": [
        "\nPyTorch\ub85c TensorBoard \uc0ac\uc6a9\ud558\uae30\n===================================\nTensorBoard\ub294 \uba38\uc2e0\ub7ec\ub2dd \uc2e4\ud5d8\uc744 \uc704\ud55c \uc2dc\uac01\ud654 \ud234\ud0b7(toolkit)\uc785\ub2c8\ub2e4.\nTensorBoard\ub97c \uc0ac\uc6a9\ud558\uba74 \uc190\uc2e4 \ubc0f \uc815\ud655\ub3c4\uc640 \uac19\uc740 \uce21\uc815 \ud56d\ubaa9\uc744 \ucd94\uc801 \ubc0f \uc2dc\uac01\ud654\ud558\ub294 \uac83,\n\ubaa8\ub378 \uadf8\ub798\ud504\ub97c \uc2dc\uac01\ud654\ud558\ub294 \uac83, \ud788\uc2a4\ud1a0\uadf8\ub7a8\uc744 \ubcf4\ub294 \uac83, \uc774\ubbf8\uc9c0\ub97c \ucd9c\ub825\ud558\ub294 \uac83 \ub4f1\uc774 \uac00\ub2a5\ud569\ub2c8\ub2e4.\n\uc774 \ud29c\ud1a0\ub9ac\uc5bc\uc5d0\uc11c\ub294 TensorBoard \uc124\uce58, PyTorch\uc758 \uae30\ubcf8 \uc0ac\uc6a9\ubc95,\nTensorBoard UI\uc5d0 \uae30\ub85d\ud55c \ub370\uc774\ud130\ub97c \uc2dc\uac01\ud654 \ud558\ub294 \ubc29\ubc95\uc744 \ub2e4\ub8f0 \uac83\uc785\ub2c8\ub2e4.\n\n\uc124\uce58\ud558\uae30\n----------------------\n\ubaa8\ub378\uacfc \uce21\uc815 \ud56d\ubaa9\uc744 TensorBoard \ub85c\uadf8 \ub514\ub809\ud130\ub9ac\uc5d0 \uae30\ub85d\ud558\ub824\uba74 PyTorch\ub97c \uc124\uce58\ud574\uc57c \ud569\ub2c8\ub2e4.\nAnaconda\ub97c \ud1b5\ud574 PyTorch 1.4 \uc774\uc0c1\uc744 \uc124\uce58\ud558\ub294 \ubc29\ubc95\uc740 \ub2e4\uc74c\uacfc \uac19\uc2b5\ub2c8\ub2e4.(\uad8c\uc7a5):\n::\n\n   $ conda install pytorch torchvision -c pytorch \n   \n\n\ub610\ub294 pip\ub97c \uc0ac\uc6a9\ud560 \uc218\ub3c4 \uc788\uc2b5\ub2c8\ub2e4.\n\n::\n\n   $ pip install torch torchvision\n\n\n"
      ]
    },
    {
      "cell_type": "markdown",
      "metadata": {},
      "source": [
        "PyTorch\ub85c TensorBoard \uc0ac\uc6a9\ud558\uae30\n-----\n\n\uc774\uc81c PyTorch\ub85c TensorBoard\ub97c \uc0ac\uc6a9\ud574\ubd05\uc2dc\ub2e4! \n\uba3c\uc800 ``SummaryWriter`` \uc778\uc2a4\ud134\uc2a4\ub97c \uc0dd\uc131\ud574\uc57c \ud569\ub2c8\ub2e4.\n\n\n"
      ]
    },
    {
      "cell_type": "code",
      "execution_count": null,
      "metadata": {
        "collapsed": false
      },
      "outputs": [],
      "source": [
        "import torch\nfrom torch.utils.tensorboard import SummaryWriter\nwriter = SummaryWriter()"
      ]
    },
    {
      "cell_type": "markdown",
      "metadata": {},
      "source": [
        "Writer\ub294 \uae30\ubcf8\uc801\uc73c\ub85c ``./runs/`` \ub514\ub809\ud130\ub9ac\uc5d0 \ucd9c\ub825\ub429\ub2c8\ub2e4.\n\n\n"
      ]
    },
    {
      "cell_type": "markdown",
      "metadata": {},
      "source": [
        "\uc2a4\uce7c\ub77c(scalar) \uae30\ub85d\ud558\uae30\n-----\n\n\uba38\uc2e0\ub7ec\ub2dd\uc5d0\uc11c\ub294 \uc190\uc2e4 \uac19\uc740 \uc8fc\uc694 \uce21\uc815 \ud56d\ubaa9\uacfc \ud559\uc2b5 \uc911 \uadf8\uac83\uc774 \uc5b4\ub5bb\uac8c \ubcc0\ud558\ub294\uc9c0 \uc774\ud574\ud558\ub294 \uac83\uc774\n\uc911\uc694\ud569\ub2c8\ub2e4. \uc2a4\uce7c\ub77c\ub294 \uac01 \ud559\uc2b5 \ub2e8\uacc4(step)\uc5d0\uc11c\uc758 \uc190\uc2e4 \uac12\uc774\ub098 \uac01 \uc5d0\ud3ed \uc774\ud6c4\uc758 \uc815\ud655\ub3c4\ub97c \uc800\uc7a5\ud558\ub294 \ub370\n\ub3c4\uc6c0\uc744 \uc90d\ub2c8\ub2e4.\n\n\uc2a4\uce7c\ub77c \uac12\uc744 \uae30\ub85d\ud558\ub824\uba74 ``add_scalar(tag, scalar_value, global_step=None, walltime=None)``\n\uc744 \uc0ac\uc6a9\ud574\uc57c \ud569\ub2c8\ub2e4. \uc608\ub85c, \uac04\ub2e8\ud55c \uc120\ud615 \ud68c\uadc0 \ud559\uc2b5\uc744 \ub9cc\ub4e4\uace0 ``add_scalar`` \ub97c \uc0ac\uc6a9\ud574\n\uc190\uc2e4 \uac12\uc744 \uae30\ub85d\ud574 \ubd05\uc2dc\ub2e4.\n\n"
      ]
    },
    {
      "cell_type": "code",
      "execution_count": null,
      "metadata": {
        "collapsed": false
      },
      "outputs": [],
      "source": [
        "x = torch.arange(-5, 5, 0.1).view(-1, 1)\ny = -5 * x + 0.1 * torch.randn(x.size())\n\nmodel = torch.nn.Linear(1, 1)\ncriterion = torch.nn.MSELoss()\noptimizer = torch.optim.SGD(model.parameters(), lr = 0.1)\n\ndef train_model(iter):\n    for epoch in range(iter):\n        y1 = model(x)\n        loss = criterion(y1, y)\n        writer.add_scalar(\"Loss/train\", loss, epoch)\n        optimizer.zero_grad()\n        loss.backward()\n        optimizer.step()\n        \ntrain_model(10)\nwriter.flush()"
      ]
    },
    {
      "cell_type": "markdown",
      "metadata": {},
      "source": [
        "\ubaa8\ub4e0 \ubcf4\ub958\uc911\uc778(pending) \uc774\ubca4\ud2b8\uac00 \ub514\uc2a4\ud06c\uc5d0 \uae30\ub85d\ub418\uc5c8\ub294\uc9c0 \ud655\uc778\ud558\ub824\uba74 ``flush()``\n\uba54\uc18c\ub4dc\ub97c \ud638\ucd9c\ud569\ub2c8\ub2e4.\n\n\uae30\ub85d\ud560 \uc218 \uc788\ub294 \ub354 \ub9ce\uc740 TensorBoard \uc2dc\uac01\ud654 \ubc29\ubc95\uc744 \ucc3e\uc73c\ub824\uba74 \n`torch.utils.tensorboard tutorials <https://pytorch.org/docs/stable/tensorboard.html>`_ \uc744\n\ucc38\uc870\ud558\uc138\uc694.\n\nSummary writer\uac00 \ub354 \uc774\uc0c1 \ud544\uc694\ud558\uc9c0 \uc54a\uc73c\uba74 ``close()`` \uba54\uc18c\ub4dc\ub97c \ud638\ucd9c\ud569\ub2c8\ub2e4.\n\n\n"
      ]
    },
    {
      "cell_type": "code",
      "execution_count": null,
      "metadata": {
        "collapsed": false
      },
      "outputs": [],
      "source": [
        "writer.close()"
      ]
    },
    {
      "cell_type": "markdown",
      "metadata": {},
      "source": [
        "TensorBoard \uc2e4\ud589\ud558\uae30\n-----\n\n\uae30\ub85d\ud55c \ub370\uc774\ud130\ub97c \uc2dc\uac01\ud654\ud558\uae30 \uc704\ud574\uc11c \ub2e4\uc74c\uacfc \uac19\uc774 TensorBoard\ub97c \uc124\uce58\ud569\ub2c8\ub2e4.\n\n::\n\n   $ pip install tensorboard\n\n\n\uc774\uc81c, \uc704\uc5d0\uc11c \uc0ac\uc6a9\ud55c \ub8e8\ud2b8 \ub85c\uadf8 \ub514\ub809\ud130\ub9ac\ub97c \uc9c0\uc815\ud558\uc5ec TensorBoard\ub97c \uc2dc\uc791\ud569\ub2c8\ub2e4.\n``logdir`` \uc778\uc790\ub294 TensorBoard\uac00 \ucd9c\ub825\ud560 \uc218 \uc788\ub294 \uc774\ubca4\ud2b8 \ud30c\uc77c\ub4e4\uc744 \ucc3e\uc744 \ub514\ub809\ud130\ub9ac\ub97c \uac00\ub9ac\ud0b5\ub2c8\ub2e4. \nTensorBoard\ub294 .*tfevents.* \ud30c\uc77c\uc744 \ucc3e\uae30 \uc704\ud574 logdir\uc758 \ub514\ub809\ud130\ub9ac \uad6c\uc870\ub97c \uc7ac\uadc0\uc801\uc73c\ub85c \ud0d0\uc0c9\ud569\ub2c8\ub2e4.\n\n::\n\n   $ tensorboard --logdir=runs\n\n\uc81c\uacf5\ud558\ub294 URL\ub85c \uc774\ub3d9\ud558\uac70\ub098 `http://localhost:6006/ <http://localhost:6006/>`_ \ub85c \uc774\ub3d9\ud569\ub2c8\ub2e4.\n\n![](../../_static/img/thumbnails/tensorboard_scalars.png)\n\n   :scale: 40 %\n\n\uc774 \ub300\uc2dc\ubcf4\ub4dc\ub294 \ub9e4 \uc5d0\ud3ed\ub9c8\ub2e4 \uc190\uc2e4\uacfc \uc815\ud655\ub3c4\uac00 \uc5b4\ub5bb\uac8c \ubcc0\ud558\ub294\uc9c0 \ubcf4\uc5ec\uc90d\ub2c8\ub2e4.\n\uc774\ub97c \uc0ac\uc6a9\ud558\uc5ec \ud559\uc2b5 \uc18d\ub3c4, \ud559\uc2b5\ub960 \ubc0f \uae30\ud0c0 \uc2a4\uce7c\ub77c \uac12\ub4e4\uc744 \ucd94\uc801\ud560 \uc218\ub3c4 \uc788\uc2b5\ub2c8\ub2e4.\n\ubaa8\ub378\uc744 \ud5a5\uc0c1\uc2dc\ud0a4\ub824\uba74 \uc5ec\ub7ec \ub2e4\ub978 \ud559\uc2b5\uc744 \ub3cc\ub9ac\uba74\uc11c \uc774\ub7ec\ud55c \uce21\uc815 \uae30\uc900\ub4e4\uc744 \ube44\uad50\ud558\ub294 \uac83\uc774 \uc88b\uc2b5\ub2c8\ub2e4.\n\n"
      ]
    },
    {
      "cell_type": "markdown",
      "metadata": {},
      "source": [
        "TensorBoard \ub300\uc2dc\ubcf4\ub4dc \uacf5\uc720\ud558\uae30\n-----\n\n`TensorBoard.dev <https://tensorboard.dev/>`_ \ub97c \uc0ac\uc6a9\ud574 ML \uc2e4\ud5d8 \uacb0\uacfc\ub97c \n\uc5c5\ub85c\ub4dc\ud558\uace0 \ubaa8\ub450\uc640 \uacf5\uc720\ud560 \uc218 \uc788\uc2b5\ub2c8\ub2e4. TensorBoard.dev\ub97c \uc0ac\uc6a9\ud558\uc5ec \nTensorBoard \ub300\uc2dc\ubcf4\ub4dc\ub97c \ud638\uc2a4\ud305, \ucd94\uc801 \ubc0f \uacf5\uc720\ud558\uc138\uc694.\n\n\uc5c5\ub85c\ub354(uploader)\ub97c \uc0ac\uc6a9\ud558\ub824\uba74 TensorBoard \ucd5c\uc2e0 \ubc84\uc804\uc744 \uc124\uce58\ud558\uc138\uc694.\n\n:: \n\n   $ pip install tensorboard --upgrade\n\n\ub2e4\uc74c\uacfc \uac19\uc740 \uba85\ub839\uc744 \uc0ac\uc6a9\ud558\uc5ec TensorBoard\ub97c \uc5c5\ub85c\ub4dc\ud558\uace0 \uacf5\uc720\ud558\uc138\uc694.\n\n:: \n\n  $ tensorboard dev upload --logdir runs \\\n  --name \"My latest experiment\" \\ # \uc120\ud0dd \uc0ac\ud56d\n  --description \"Simple comparison of several hyperparameters\" # \uc120\ud0dd \uc0ac\ud56d\n\n\ub3c4\uc6c0\uc774 \ud544\uc694\ud558\uba74 ``$ tensorboard dev --help`` \ub97c \uc2e4\ud589\ud558\uc138\uc694.\n\n**\ucc38\uace0:** \uc5c5\ub85c\ub4dc \ub41c TensorBoard\ub294 \uacf5\uac1c\ub418\uc5b4 \ub204\uad6c\ub098 \ubcfc \uc218 \uc788\uac8c \ub429\ub2c8\ub2e4. \n\ubbfc\uac10\ud55c \ub370\uc774\ud130\uac00 \uc788\ub2e4\uba74 \uc5c5\ub85c\ub4dc\ud558\uc9c0 \ub9c8\uc138\uc694.\n\n\ud130\ubbf8\ub110\uc5d0\uc11c \uc81c\uacf5\ud55c URL\ub85c TensorBoard\ub97c \uc2e4\uc2dc\uac04\uc73c\ub85c \ud655\uc778\ud558\uc138\uc694.\n\uc608: `https://tensorboard.dev/experiment/AdYd1TgeTlaLWXx6I8JUbA <https://tensorboard.dev/experiment/AdYd1TgeTlaLWXx6I8JUbA>`_\n\n\n![](../../_static/img/thumbnails/tensorboard_dev.png)\n\n   :scale: 40 %\n\n\n<div class=\"alert alert-info\"><h4>Note</h4><p>TensorBoard.dev\ub294 \ud604\uc7ac \uc2a4\uce7c\ub77c \ub300\uc2dc\ubcf4\ub4dc\ub9cc \uc9c0\uc6d0\ud569\ub2c8\ub2e4.</p></div>\n\n"
      ]
    },
    {
      "cell_type": "markdown",
      "metadata": {},
      "source": [
        "\ub354 \uc54c\uc544\ubcf4\uae30\n----------------------------\n\n-  `torch.utils.tensorboard <https://pytorch.org/docs/stable/tensorboard.html>`_ docs\n-  `Visualizing models, data, and training with TensorBoard <https://pytorch.org/tutorials/intermediate/tensorboard_tutorial.html>`_ tutorial\n\n\n"
      ]
    }
  ],
  "metadata": {
    "kernelspec": {
      "display_name": "Python 3",
      "language": "python",
      "name": "python3"
    },
    "language_info": {
      "codemirror_mode": {
        "name": "ipython",
        "version": 3
      },
      "file_extension": ".py",
      "mimetype": "text/x-python",
      "name": "python",
      "nbconvert_exporter": "python",
      "pygments_lexer": "ipython3",
      "version": "3.6.7"
    }
  },
  "nbformat": 4,
  "nbformat_minor": 0
}