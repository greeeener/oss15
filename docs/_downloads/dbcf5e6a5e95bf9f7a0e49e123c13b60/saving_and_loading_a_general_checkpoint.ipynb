{
  "cells": [
    {
      "cell_type": "code",
      "execution_count": null,
      "metadata": {
        "collapsed": false
      },
      "outputs": [],
      "source": [
        "%matplotlib inline"
      ]
    },
    {
      "cell_type": "markdown",
      "metadata": {},
      "source": [
        "\nPyTorch\uc5d0\uc11c \uc77c\ubc18\uc801\uc778 \uccb4\ud06c\ud3ec\uc778\ud2b8(checkpoint) \uc800\uc7a5\ud558\uae30 & \ubd88\ub7ec\uc624\uae30\n===================================================================\n\ucd94\ub860(inference) \ub610\ub294 \ud559\uc2b5(training)\uc758 \uc7ac\uac1c\ub97c \uc704\ud574 \uccb4\ud06c\ud3ec\uc778\ud2b8(checkpoint) \ubaa8\ub378\uc744\n\uc800\uc7a5\ud558\uace0 \ubd88\ub7ec\uc624\ub294 \uac83\uc740 \ub9c8\uc9c0\ub9c9\uc73c\ub85c \uc911\ub2e8\ud588\ub358 \ubd80\ubd84\uc744 \uc120\ud0dd\ud558\ub294\ub370 \ub3c4\uc6c0\uc744 \uc904 \uc218 \uc788\uc2b5\ub2c8\ub2e4.\n\uccb4\ud06c\ud3ec\uc778\ud2b8\ub97c \uc800\uc7a5\ud560 \ub54c\ub294 \ub2e8\uc21c\ud788 \ubaa8\ub378\uc758 state_dict \uc774\uc0c1\uc758 \uac83\uc744 \uc800\uc7a5\ud574\uc57c \ud569\ub2c8\ub2e4.\n\ubaa8\ub378 \ud559\uc2b5 \uc911\uc5d0 \uac31\uc2e0\ub418\ub294 \ud37c\ubc84\uc640 \ub9e4\uac1c\ubcc0\uc218\ub4e4\uc744 \ud3ec\ud568\ud558\ub294 \uc635\ud2f0\ub9c8\uc774\uc800(Optimizer)\uc758\nstate_dict\ub97c \ud568\uaed8 \uc800\uc7a5\ud558\ub294 \uac83\uc774 \uc911\uc694\ud569\ub2c8\ub2e4. \uc774 \uc678\uc5d0\ub3c4 \uc911\ub2e8 \uc2dc\uc810\uc758 \uc5d0\ud3ec\ud06c(epoch),\n\ub9c8\uc9c0\ub9c9\uc73c\ub85c \uae30\ub85d\ub41c \ud559\uc2b5 \uc624\ucc28(training loss), \uc678\ubd80 ``torch.nn.Embedding`` \uacc4\uce35 \ub4f1,\n\uc54c\uace0\ub9ac\uc998\uc5d0 \ub530\ub77c \uc800\uc7a5\ud558\uace0 \uc2f6\uc740 \ud56d\ubaa9\ub4e4\uc774 \uc788\uc744 \uac83\uc785\ub2c8\ub2e4.\n\n\uac1c\uc694\n------------\n\uc5ec\ub7ec \uccb4\ud06c\ud3ec\uc778\ud2b8\ub4e4\uc744 \uc800\uc7a5\ud558\uae30 \uc704\ud574\uc11c\ub294 \uc0ac\uc804(dictionary)\uc5d0 \uccb4\ud06c\ud3ec\uc778\ud2b8\ub4e4\uc744 \uad6c\uc131\ud558\uace0\n``torch.save()`` \ub97c \uc0ac\uc6a9\ud558\uc5ec \uc0ac\uc804\uc744 \uc9c1\ub82c\ud654(serialize)\ud574\uc57c \ud569\ub2c8\ub2e4. \uc77c\ubc18\uc801\uc778\nPyTorch\uc5d0\uc11c\ub294 \uc774\ub7ec\ud55c \uc5ec\ub7ec \uccb4\ud06c\ud3ec\uc778\ud2b8\ub4e4\uc744 \uc800\uc7a5\ud560 \ub54c ``.tar`` \ud655\uc7a5\uc790\ub97c \uc0ac\uc6a9\ud558\ub294 \uac83\uc774\n\uc77c\ubc18\uc801\uc778 \uaddc\uce59\uc785\ub2c8\ub2e4. \ud56d\ubaa9\ub4e4\uc744 \ubd88\ub7ec\uc62c \ub54c\uc5d0\ub294, \uba3c\uc800 \ubaa8\ub378\uacfc \uc635\ud2f0\ub9c8\uc774\uc800\ub97c \ucd08\uae30\ud654\ud558\uace0,\ntorch.load()\ub97c \uc0ac\uc6a9\ud558\uc5ec \uc0ac\uc804\uc744 \ubd88\ub7ec\uc635\ub2c8\ub2e4. \uc774\ud6c4 \uc6d0\ud558\ub294\ub300\ub85c \uc800\uc7a5\ud55c \ud56d\ubaa9\ub4e4\uc744 \uc0ac\uc804\uc5d0\n\uc870\ud68c\ud558\uc5ec \uc811\uadfc\ud560 \uc218 \uc788\uc2b5\ub2c8\ub2e4.\n\n\uc774 \ub808\uc2dc\ud53c\uc5d0\uc11c\ub294 \uc5ec\ub7ec \uccb4\ud06c\ud3ec\uc778\ud2b8\ub4e4\uc744 \uc5b4\ub5bb\uac8c \uc800\uc7a5\ud558\uace0 \ubd88\ub7ec\uc624\ub294\uc9c0 \uc0b4\ud3b4\ubcf4\uaca0\uc2b5\ub2c8\ub2e4.\n\n\uc124\uc815\n-----\n\uc2dc\uc791\ud558\uae30 \uc804\uc5d0 ``torch`` \uac00 \uc5c6\ub2e4\uba74 \uc124\uce58\ud574\uc57c \ud569\ub2c8\ub2e4.\n\n\n::\n\n   pip install torch\n\n\n\n"
      ]
    },
    {
      "cell_type": "markdown",
      "metadata": {},
      "source": [
        "\ub2e8\uacc4(Steps)\n------------\n\n1. \ub370\uc774\ud130 \ubd88\ub7ec\uc62c \ub54c \ud544\uc694\ud55c \ub77c\uc774\ube0c\ub7ec\ub9ac\ub4e4 \ubd88\ub7ec\uc624\uae30\n2. \uc2e0\uacbd\ub9dd\uc744 \uad6c\uc131\ud558\uace0 \ucd08\uae30\ud654\ud558\uae30\n3. \uc635\ud2f0\ub9c8\uc774\uc800 \ucd08\uae30\ud654\ud558\uae30\n4. \uc77c\ubc18\uc801\uc778 \uccb4\ud06c\ud3ec\uc778\ud2b8 \uc800\uc7a5\ud558\uae30\n5. \uc77c\ubc18\uc801\uc778 \uccb4\ud06c\ud3ec\uc778\ud2b8 \ubd88\ub7ec\uc624\uae30\n\n1. \ub370\uc774\ud130 \ubd88\ub7ec\uc62c \ub54c \ud544\uc694\ud55c \ub77c\uc774\ube0c\ub7ec\ub9ac\ub4e4 \ubd88\ub7ec\uc624\uae30\n~~~~~~~~~~~~~~~~~~~~~~~~~~~~~~~~~~~~~~~~~~~~~~~~~~~~~~\n\n\uc774 \ub808\uc2dc\ud53c\uc5d0\uc11c\ub294 ``torch`` \uc640 \uc5ec\uae30 \ud3ec\ud568\ub41c ``torch.nn`` \uc640 ``torch.optim` \uc744\n\uc0ac\uc6a9\ud558\uaca0\uc2b5\ub2c8\ub2e4.\n\n\n"
      ]
    },
    {
      "cell_type": "code",
      "execution_count": null,
      "metadata": {
        "collapsed": false
      },
      "outputs": [],
      "source": [
        "import torch\nimport torch.nn as nn\nimport torch.optim as optim"
      ]
    },
    {
      "cell_type": "markdown",
      "metadata": {},
      "source": [
        "2. \uc2e0\uacbd\ub9dd\uc744 \uad6c\uc131\ud558\uace0 \ucd08\uae30\ud654\ud558\uae30\n~~~~~~~~~~~~~~~~~~~~~~~~~~~~~~~~~~~~~~~~~~~~~~\n\n\uc608\ub97c \ub4e4\uc5b4, \uc774\ubbf8\uc9c0\ub97c \ud559\uc2b5\ud558\ub294 \uc2e0\uacbd\ub9dd\uc744 \ub9cc\ub4e4\uc5b4\ubcf4\uaca0\uc2b5\ub2c8\ub2e4. \ub354 \uc790\uc138\ud55c \ub0b4\uc6a9\uc740\n\uc2e0\uacbd\ub9dd \uad6c\uc131\ud558\uae30 \ub808\uc2dc\ud53c\ub97c \ucc38\uace0\ud574\uc8fc\uc138\uc694.\n\n\n"
      ]
    },
    {
      "cell_type": "code",
      "execution_count": null,
      "metadata": {
        "collapsed": false
      },
      "outputs": [],
      "source": [
        "class Net(nn.Module):\n    def __init__(self):\n        super(Net, self).__init__()\n        self.conv1 = nn.Conv2d(3, 6, 5)\n        self.pool = nn.MaxPool2d(2, 2)\n        self.conv2 = nn.Conv2d(6, 16, 5)\n        self.fc1 = nn.Linear(16 * 5 * 5, 120)\n        self.fc2 = nn.Linear(120, 84)\n        self.fc3 = nn.Linear(84, 10)\n\n    def forward(self, x):\n        x = self.pool(F.relu(self.conv1(x)))\n        x = self.pool(F.relu(self.conv2(x)))\n        x = x.view(-1, 16 * 5 * 5)\n        x = F.relu(self.fc1(x))\n        x = F.relu(self.fc2(x))\n        x = self.fc3(x)\n        return x\n\nnet = Net()\nprint(net)"
      ]
    },
    {
      "cell_type": "markdown",
      "metadata": {},
      "source": [
        "3. \uc635\ud2f0\ub9c8\uc774\uc800 \ucd08\uae30\ud654\ud558\uae30\n~~~~~~~~~~~~~~~~~~~~~~~~~~~~~~~\n\n\ubaa8\uba58\ud140(momentum)\uc744 \uac16\ub294 SGD\ub97c \uc0ac\uc6a9\ud558\uaca0\uc2b5\ub2c8\ub2e4.\n\n\n"
      ]
    },
    {
      "cell_type": "code",
      "execution_count": null,
      "metadata": {
        "collapsed": false
      },
      "outputs": [],
      "source": [
        "optimizer = optim.SGD(net.parameters(), lr=0.001, momentum=0.9)"
      ]
    },
    {
      "cell_type": "markdown",
      "metadata": {},
      "source": [
        "4. \uc77c\ubc18\uc801\uc778 \uccb4\ud06c\ud3ec\uc778\ud2b8 \uc800\uc7a5\ud558\uae30\n~~~~~~~~~~~~~~~~~~~~~~~~~~~~~~~~~~\n\n\uad00\ub828\ub41c \ubaa8\ub4e0 \uc815\ubcf4\ub4e4\uc744 \ubaa8\uc544\uc11c \uc0ac\uc804\uc744 \uad6c\uc131\ud569\ub2c8\ub2e4.\n\n\n"
      ]
    },
    {
      "cell_type": "code",
      "execution_count": null,
      "metadata": {
        "collapsed": false
      },
      "outputs": [],
      "source": [
        "# \ucd94\uac00 \uc815\ubcf4\nEPOCH = 5\nPATH = \"model.pt\"\nLOSS = 0.4\n\ntorch.save({\n            'epoch': EPOCH,\n            'model_state_dict': net.state_dict(),\n            'optimizer_state_dict': optimizer.state_dict(),\n            'loss': LOSS,\n            }, PATH)"
      ]
    },
    {
      "cell_type": "markdown",
      "metadata": {},
      "source": [
        "5. \uc77c\ubc18\uc801\uc778 \uccb4\ud06c\ud3ec\uc778\ud2b8 \ubd88\ub7ec\uc624\uae30\n~~~~~~~~~~~~~~~~~~~~~~~~~~~~~~~~~~\n\n\uba3c\uc800 \ubaa8\ub378\uacfc \uc635\ud2f0\ub9c8\uc774\uc800\ub97c \ucd08\uae30\ud654\ud55c \ub4a4, \uc0ac\uc804\uc744 \ubd88\ub7ec\uc624\ub294 \uac83\uc744 \uae30\uc5b5\ud558\uc2ed\uc2dc\uc624.\n\n\n"
      ]
    },
    {
      "cell_type": "code",
      "execution_count": null,
      "metadata": {
        "collapsed": false
      },
      "outputs": [],
      "source": [
        "model = Net()\noptimizer = optim.SGD(net.parameters(), lr=0.001, momentum=0.9)\n\ncheckpoint = torch.load(PATH)\nmodel.load_state_dict(checkpoint['model_state_dict'])\noptimizer.load_state_dict(checkpoint['optimizer_state_dict'])\nepoch = checkpoint['epoch']\nloss = checkpoint['loss']\n\nmodel.eval()\n# - \ub610\ub294 -\nmodel.train()"
      ]
    },
    {
      "cell_type": "markdown",
      "metadata": {},
      "source": [
        "\ucd94\ub860(inference)\uc744 \uc2e4\ud589\ud558\uae30 \uc804\uc5d0 ``model.eval()`` \uc744 \ud638\ucd9c\ud558\uc5ec \ub4dc\ub86d\uc544\uc6c3(dropout)\uacfc\n\ubc30\uce58 \uc815\uaddc\ud654 \uce35(batch normalization layer)\uc744 \ud3c9\uac00(evaluation) \ubaa8\ub4dc\ub85c \ubc14\uafd4\uc57c\ud55c\ub2e4\ub294\n\uac83\uc744 \uae30\uc5b5\ud558\uc138\uc694. \uc774\uac83\uc744 \ube7c\uba39\uc73c\uba74 \uc77c\uad00\uc131 \uc5c6\ub294 \ucd94\ub860 \uacb0\uacfc\ub97c \uc5bb\uac8c \ub429\ub2c8\ub2e4.\n\n\ub9cc\uc57d \ud559\uc2b5\uc744 \uacc4\uc18d\ud558\uae38 \uc6d0\ud55c\ub2e4\uba74 ``model.train()`` \uc744 \ud638\ucd9c\ud558\uc5ec \uc774 \uce35(layer)\ub4e4\uc774\n\ud559\uc2b5 \ubaa8\ub4dc\uc778\uc9c0 \ud655\uc778(ensure)\ud558\uc138\uc694.\n\n\ucd95\ud558\ud569\ub2c8\ub2e4! \uc9c0\uae08\uae4c\uc9c0 PyTorch\uc5d0\uc11c \ucd94\ub860 \ub610\ub294 \ud559\uc2b5 \uc7ac\uac1c\ub97c \uc704\ud574 \uc77c\ubc18\uc801\uc778 \uccb4\ud06c\ud3ec\uc778\ud2b8\ub97c\n\uc800\uc7a5\ud558\uace0 \ubd88\ub7ec\uc654\uc2b5\ub2c8\ub2e4.\n\n\ub354 \uc54c\uc544\ubcf4\uae30\n------------\n\n\ub2e4\ub978 \ub808\uc2dc\ud53c\ub97c \ub458\ub7ec\ubcf4\uace0 \uacc4\uc18d \ubc30\uc6cc\ubcf4\uc138\uc694:\n\n- :doc:`/recipes/recipes/saving_and_loading_a_general_checkpoint`\n- :doc:`/recipes/recipes/saving_multiple_models_in_one_file`\n\n"
      ]
    }
  ],
  "metadata": {
    "kernelspec": {
      "display_name": "Python 3",
      "language": "python",
      "name": "python3"
    },
    "language_info": {
      "codemirror_mode": {
        "name": "ipython",
        "version": 3
      },
      "file_extension": ".py",
      "mimetype": "text/x-python",
      "name": "python",
      "nbconvert_exporter": "python",
      "pygments_lexer": "ipython3",
      "version": "3.6.7"
    }
  },
  "nbformat": 4,
  "nbformat_minor": 0
}