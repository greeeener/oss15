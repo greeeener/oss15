{
  "cells": [
    {
      "cell_type": "code",
      "execution_count": null,
      "metadata": {
        "collapsed": false
      },
      "outputs": [],
      "source": [
        "%matplotlib inline"
      ]
    },
    {
      "cell_type": "markdown",
      "metadata": {},
      "source": [
        "\nPyTorch\uc5d0\uc11c \ubcc0\ud654\ub3c4\ub97c 0\uc73c\ub85c \ub9cc\ub4e4\uae30\n================================\n\uc2e0\uacbd\ub9dd\uc744 \uad6c\ucd95\ud560 \ub54c\ub294 \ubcc0\ud654\ub3c4\ub97c 0\uc73c\ub85c \ub9cc\ub4e4\uc5b4 \uc8fc\ub294 \uac83\uc774 \uc88b\uc2b5\ub2c8\ub2e4. \uae30\ubcf8\uc801\uc73c\ub85c \n``.backward()`` \ub97c \ud638\ucd9c\ud560 \ub54c\ub9c8\ub2e4 \ubcc0\ud654\ub3c4\uac00 \ubc84\ud37c\uc5d0 \uc313\uc774\uae30 \ub54c\ubb38\uc785\ub2c8\ub2e4. (\ub36e\uc5b4\uc4f0\uc9c0 \uc54a\ub294\ub2e4\ub294 \uc758\ubbf8\uc785\ub2c8\ub2e4.)\n\n\uac1c\uc694\n------------\n\uc2e0\uacbd\ub9dd\uc744 \ud559\uc2b5\uc2dc\ud0ac \ub54c, \uacbd\uc0ac \ud558\uac15\ubc95\uc744 \uac70\uccd0 \ubaa8\ub378 \uc815\ud655\ub3c4\ub97c \ub192\uc77c \uc218 \uc788\uc2b5\ub2c8\ub2e4. \uacbd\uc0ac \ud558\uac15\ubc95\uc740 \uac04\ub2e8\ud788 \n\uc124\uba85\ud574 \ubaa8\ub378\uc758 \uac00\uc911\uce58\uc640 \ud3b8\ud5a5\uc744 \uc57d\uac04\uc529 \uc218\uc815\ud558\uba74\uc11c \uc190\uc2e4(\ub610\ub294 \uc624\ub958)\ub97c \ucd5c\uc18c\ud654\ud558\ub294 \uacfc\uc815\uc785\ub2c8\ub2e4. \n\n``torch.Tensor`` \ub294 PyTorch \uc758 \ud575\uc2ec\uc774 \ub418\ub294 \ud074\ub798\uc2a4 \uc785\ub2c8\ub2e4. \ud150\uc11c\ub97c \uc0dd\uc131\ud560 \ub54c \n``.requires_grad`` \uc18d\uc131\uc744 ``True`` \ub85c \uc124\uc815\ud558\uba74, \ud150\uc11c\uc5d0 \uac00\ud574\uc9c4 \ubaa8\ub4e0 \uc5f0\uc0b0\uc744 \ucd94\uc801\ud569\ub2c8\ub2e4. \n\ub4a4\ub530\ub974\ub294 \ubaa8\ub4e0 \uc5ed\uc804\ud30c \ub2e8\uacc4\uc5d0\uc11c\ub3c4 \ub9c8\ucc2c\uac00\uc9c0\ub85c, \uc774 \ud150\uc11c\uc758 \ubcc0\ud654\ub3c4\ub294 ``.grad`` \uc18d\uc131\uc5d0 \ub204\uc801\ub420 \uac83\uc785\ub2c8\ub2e4.\n\ubaa8\ub4e0 \ubcc0\ud654\ub3c4\uc758 \ucd95\uc801 \ub610\ub294 \ud569\uc740 \uc190\uc2e4 \ud150\uc11c\uc5d0\uc11c ``.backward()`` \ub97c \ud638\ucd9c\ud560 \ub54c \uacc4\uc0b0\ub429\ub2c8\ub2e4.\n\n\ud150\uc11c\uc758 \ubcc0\ud654\ub3c4\ub97c 0\uc73c\ub85c \ub9cc\ub4e4\uc5b4 \uc8fc\uc5b4\uc57c \ud558\ub294 \uacbd\uc6b0\ub3c4 \uc788\uc2b5\ub2c8\ub2e4. \uc608\ub97c \ub4e4\uc5b4 \ud559\uc2b5 \uacfc\uc815 \ubc18\ubcf5\ubb38\uc744 \n\uc2dc\uc791\ud560 \ub54c, \ub204\uc801\ub418\ub294 \ubcc0\ud654\ub3c4\ub97c \uc815\ud655\ud558\uac8c \ucd94\uc801\ud558\uae30 \uc704\ud574\uc11c\ub294 \ubcc0\ud654\ub3c4\ub97c \uc6b0\uc120 0\uc73c\ub85c \ub9cc\ub4e4\uc5b4 \uc8fc\uc5b4\uc57c \ud569\ub2c8\ub2e4. \n\uc774 \ub808\uc2dc\ud53c\uc5d0\uc11c\ub294 PyTorch \ub77c\uc774\ube0c\ub7ec\ub9ac\ub97c \uc0ac\uc6a9\ud558\uc5ec \ubcc0\ud654\ub3c4\ub97c 0\uc73c\ub85c \ub9cc\ub4dc\ub294 \ubc29\ubc95\uc744 \ubc30\uc6cc\ubd05\ub2c8\ub2e4.\nPyTorch\uc5d0 \ub0b4\uc7a5\ub41c ``CIFAR10`` \ub370\uc774\ud130\uc14b\uc5d0 \ub300\ud558\uc5ec \uc2e0\uacbd\ub9dd\uc744 \ud6c8\ub828\uc2dc\ud0a4\ub294 \uacfc\uc815\uc744 \ud1b5\ud574 \uc54c\uc544\ubd05\uc2dc\ub2e4.\n\n\uc124\uc815\n-----\n\uc774 \ub808\uc2dc\ud53c\uc5d0\ub294 \ub370\uc774\ud130\ub97c \ud559\uc2b5\uc2dc\ud0a4\ub294 \ub0b4\uc6a9\uc774 \ud3ec\ud568\ub418\uc5b4 \uc788\uae30 \ub54c\ubb38\uc5d0, \uc2e4\ud589 \uac00\ub2a5\ud55c \ub178\ud2b8\ubd81 \ud30c\uc77c\uc774 \uc788\ub2e4\uba74\n\ub7f0\ud0c0\uc784\uc744 GPU \ub610\ub294 TPU\ub85c \uc804\ud658\ud558\ub294 \uac83\uc774 \uc88b\uc2b5\ub2c8\ub2e4. \uc2dc\uc791\ud558\uae30\uc5d0 \uc55e\uc11c, ``torch`` \uc640 \n``torchvision`` \ud328\ud0a4\uc9c0\uac00 \uc5c6\ub2e4\uba74 \uc124\uce58\ud569\ub2c8\ub2e4.\n\n::\n\n   pip install torchvision\n\n\n\n"
      ]
    },
    {
      "cell_type": "markdown",
      "metadata": {},
      "source": [
        "\ub2e8\uacc4(Steps)\n-----\n\n1\ub2e8\uacc4\ubd80\ud130 4\ub2e8\uacc4\uae4c\uc9c0\ub294 \ud559\uc2b5\uc744 \uc704\ud55c \ub370\uc774\ud130\uc640 \uc2e0\uacbd\ub9dd\uc744 \uc900\ube44\ud558\uba70, 5\ub2e8\uacc4\uc5d0\uc11c \ubcc0\ud654\ub3c4\ub97c 0\uc73c\ub85c\n\ub9cc\ub4e4\uc5b4 \uc90d\ub2c8\ub2e4. \uc774\ubbf8 \uc900\ube44\ud55c \ub370\uc774\ud130\uc640 \uc2e0\uacbd\ub9dd\uc774 \uc788\ub2e4\uba74 5\ub2e8\uacc4\ub85c \uac74\ub108\ub6f0\uc5b4\ub3c4 \uc88b\uc2b5\ub2c8\ub2e4. \n\n1. \ub370\uc774\ud130\ub97c \ubd88\ub7ec\uc624\uae30 \uc704\ud574 \ud544\uc694\ud55c \ubaa8\ub4e0 \ub77c\uc774\ube0c\ub7ec\ub9ac import \ud558\uae30\n2. \ub370\uc774\ud130\uc14b \ubd88\ub7ec\uc624\uace0 \uc815\uaddc\ud654\ud558\uae30\n3. \uc2e0\uacbd\ub9dd \uad6c\ucd95\ud558\uae30\n4. \uc190\uc2e4 \ud568\uc218 \uc815\uc758\ud558\uae30\n5. \uc2e0\uacbd\ub9dd\uc744 \ud559\uc2b5\uc2dc\ud0ac \ub54c \ubcc0\ud654\ub3c4 0\uc73c\ub85c \ub9cc\ub4e4\uae30\n\n1. \ub370\uc774\ud130\ub97c \ubd88\ub7ec\uc624\uae30 \uc704\ud574 \ud544\uc694\ud55c \ubaa8\ub4e0 \ub77c\uc774\ube0c\ub7ec\ub9ac import \ud558\uae30\n~~~~~~~~~~~~~~~~~~~~~~~~~~~~~~~~~~~~~~~~~~~~~~~~~~~~~~\n\n\uc774 \ub808\uc2dc\ud53c\uc5d0\uc11c\ub294 \ub370\uc774\ud130\uc14b\uc5d0 \uc811\uadfc\ud558\uae30 \uc704\ud574 ``torch`` \uc640 ``torchvision`` \uc744 \uc0ac\uc6a9\ud569\ub2c8\ub2e4.\n\n\n"
      ]
    },
    {
      "cell_type": "code",
      "execution_count": null,
      "metadata": {
        "collapsed": false
      },
      "outputs": [],
      "source": [
        "import torch\n\nimport torch.nn as nn\nimport torch.nn.functional as F\n\nimport torch.optim as optim\n\nimport torchvision\nimport torchvision.transforms as transforms"
      ]
    },
    {
      "cell_type": "markdown",
      "metadata": {},
      "source": [
        "2. \ub370\uc774\ud130\uc14b \ubd88\ub7ec\uc624\uace0 \uc815\uaddc\ud654\ud558\uae30\n~~~~~~~~~~~~~~~~~~~~~~~~~~~~~~~~~~~~~\n\nPyTorch\ub294 \ub2e4\uc591\ud55c \ub0b4\uc7a5 \ub370\uc774\ud130\uc14b\uc744 \uc81c\uacf5\ud569\ub2c8\ub2e4. PyTorch\uc5d0\uc11c \ub370\uc774\ud130 \ubd88\ub7ec\uc624\uae30 \ub808\uc2dc\ud53c\ub97c \ucc38\uace0\ud574 \n\ub354 \ub9ce\uc740 \uc815\ubcf4\ub97c \uc5bb\uc744 \uc218 \uc788\uc2b5\ub2c8\ub2e4.\n\n\n"
      ]
    },
    {
      "cell_type": "code",
      "execution_count": null,
      "metadata": {
        "collapsed": false
      },
      "outputs": [],
      "source": [
        "transform = transforms.Compose(\n    [transforms.ToTensor(),\n     transforms.Normalize((0.5, 0.5, 0.5), (0.5, 0.5, 0.5))])\n\ntrainset = torchvision.datasets.CIFAR10(root='./data', train=True,\n                                        download=True, transform=transform)\ntrainloader = torch.utils.data.DataLoader(trainset, batch_size=4,\n                                          shuffle=True, num_workers=2)\n\ntestset = torchvision.datasets.CIFAR10(root='./data', train=False,\n                                       download=True, transform=transform)\ntestloader = torch.utils.data.DataLoader(testset, batch_size=4,\n                                         shuffle=False, num_workers=2)\n\nclasses = ('plane', 'car', 'bird', 'cat',\n           'deer', 'dog', 'frog', 'horse', 'ship', 'truck')"
      ]
    },
    {
      "cell_type": "markdown",
      "metadata": {},
      "source": [
        "3. \uc2e0\uacbd\ub9dd \uad6c\ucd95\ud558\uae30\n~~~~~~~~~~~~~~~~~~~~~~~~~~~~~~~\n\n\ucee8\ubcfc\ub8e8\uc158 \uc2e0\uacbd\ub9dd\uc744 \uc815\uc758\ud558\uaca0\uc2b5\ub2c8\ub2e4. \uc790\uc138\ud55c \ub0b4\uc6a9\uc740 \uc2e0\uacbd\ub9dd \uc815\uc758\ud558\uae30 \ub808\uc2dc\ud53c\ub97c\n\ucc38\uc870\ud574\uc8fc\uc138\uc694.\n\n\n"
      ]
    },
    {
      "cell_type": "code",
      "execution_count": null,
      "metadata": {
        "collapsed": false
      },
      "outputs": [],
      "source": [
        "class Net(nn.Module):\n    def __init__(self):\n        super(Net, self).__init__()\n        self.conv1 = nn.Conv2d(3, 6, 5)\n        self.pool = nn.MaxPool2d(2, 2)\n        self.conv2 = nn.Conv2d(6, 16, 5)\n        self.fc1 = nn.Linear(16 * 5 * 5, 120)\n        self.fc2 = nn.Linear(120, 84)\n        self.fc3 = nn.Linear(84, 10)\n\n    def forward(self, x):\n        x = self.pool(F.relu(self.conv1(x)))\n        x = self.pool(F.relu(self.conv2(x)))\n        x = x.view(-1, 16 * 5 * 5)\n        x = F.relu(self.fc1(x))\n        x = F.relu(self.fc2(x))\n        x = self.fc3(x)\n        return x"
      ]
    },
    {
      "cell_type": "markdown",
      "metadata": {},
      "source": [
        "4. \uc190\uc2e4 \ud568\uc218\uacfc \uc635\ud2f0\ub9c8\uc774\uc800 \uc815\uc758\ud558\uae30\n~~~~~~~~~~~~~~~~~~~~~~~~~~~~~~~~~~~~~~~~~~~\n\n\ubd84\ub958\ub97c \uc704\ud55c Cross-Entropy \uc190\uc2e4 \ud568\uc218\uc640 \ubaa8\uba58\ud140\uc744 \uc124\uc815\ud55c SGD \uc635\ud2f0\ub9c8\uc774\uc800\ub97c \uc0ac\uc6a9\ud569\ub2c8\ub2e4.\n\n\n"
      ]
    },
    {
      "cell_type": "code",
      "execution_count": null,
      "metadata": {
        "collapsed": false
      },
      "outputs": [],
      "source": [
        "net = Net()\ncriterion = nn.CrossEntropyLoss()\noptimizer = optim.SGD(net.parameters(), lr=0.001, momentum=0.9)"
      ]
    },
    {
      "cell_type": "markdown",
      "metadata": {},
      "source": [
        "5. \uc2e0\uacbd\ub9dd\uc744 \ud559\uc2b5\uc2dc\ud0a4\ub294 \ub3d9\uc548 \ubcc0\ud654\ub3c4\ub97c 0\uc73c\ub85c \ub9cc\ub4e4\uae30\n~~~~~~~~~~~~~~~~~~~~~~~~~~~~~~~~~~~~~~~~~~~~~~~~~~~~\n\n\uc774\uc81c\ubd80\ud130 \ud765\ubbf8\ub85c\uc6b4 \ubd80\ubd84\uc744 \uc0b4\ud3b4\ubcf4\ub824\uace0 \ud569\ub2c8\ub2e4.\n\uc5ec\uae30\uc11c \ud560 \uc77c\uc740 \ub370\uc774\ud130 \uc774\ud130\ub808\uc774\ud130\ub97c \uc21c\ud68c\ud558\uba74\uc11c, \uc2e0\uacbd\ub9dd\uc5d0 \uc785\ub825\uc744 \uc8fc\uace0\n\ucd5c\uc801\ud654\ud558\ub294 \uac83\uc785\ub2c8\ub2e4.\n\n\ub370\uc774\ud130\uc758 \uc5d4\ud130\ud2f0 \uac01\uac01\uc758 \ubcc0\ud654\ub3c4\ub97c 0\uc73c\ub85c \ub9cc\ub4e4\uc5b4\uc8fc\ub294 \uac83\uc5d0 \uc720\uc758\ud558\uc2ed\uc2dc\uc624. \n\uc2e0\uacbd\ub9dd\uc744 \ud559\uc2b5\uc2dc\ud0ac \ub54c \ubd88\ud544\uc694\ud55c \uc815\ubcf4\ub97c \ucd94\uc801\ud558\uc9c0 \uc54a\ub3c4\ub85d \ud558\uae30 \uc704\ud568\uc785\ub2c8\ub2e4. \n\n\n"
      ]
    },
    {
      "cell_type": "code",
      "execution_count": null,
      "metadata": {
        "collapsed": false
      },
      "outputs": [],
      "source": [
        "for epoch in range(2):  # \uc804\uccb4 \ub370\uc774\ud130\uc14b\uc744 \uc5ec\ub7ec\ubc88 \ubc18\ubcf5\ud558\uae30\n\n    running_loss = 0.0\n    for i, data in enumerate(trainloader, 0):\n        # \uc785\ub825 \ubc1b\uae30: \ub370\uc774\ud130\ub294 [inputs, labels] \ud615\ud0dc\uc758 \ub9ac\uc2a4\ud2b8\n        inputs, labels = data\n\n        # \ud30c\ub77c\ubbf8\ud130 \ubcc0\ud654\ub3c4\ub97c 0\uc73c\ub85c \ub9cc\ub4e4\uae30\n        optimizer.zero_grad()\n\n        # \uc21c\uc804\ud30c + \uc5ed\uc804\ud30c + \ucd5c\uc801\ud654\n        outputs = net(inputs)\n        loss = criterion(outputs, labels)\n        loss.backward()\n        optimizer.step()\n\n        # \ud1b5\uacc4 \ucd9c\ub825\n        running_loss += loss.item()\n        if i % 2000 == 1999:    # \ubbf8\ub2c8\ubc30\uce58 2000\uac1c \ub9c8\ub2e4 \ucd9c\ub825\n            print('[%d, %5d] loss: %.3f' %\n                  (epoch + 1, i + 1, running_loss / 2000))\n            running_loss = 0.0\n\nprint('Finished Training')"
      ]
    },
    {
      "cell_type": "markdown",
      "metadata": {},
      "source": [
        "``model.zero_grad()`` \ub97c \uc0ac\uc6a9\ud574\ub3c4 \ubcc0\ud654\ub3c4\ub97c 0\uc73c\ub85c \ub9cc\ub4e4 \uc218 \uc788\uc2b5\ub2c8\ub2e4. \n\uc774\ub294 \uc635\ud2f0\ub9c8\uc774\uc800\uc5d0 \ubaa8\ub4e0 \ubaa8\ub378 \ud30c\ub77c\ubbf8\ud130\uac00 \ud3ec\ud568\ub418\ub294 \ud55c ``optimizer.zero_grad()`` \ub97c\n\uc0ac\uc6a9\ud558\ub294 \uac83\uacfc \ub3d9\uc77c\ud569\ub2c8\ub2e4. \uc5b4\ub5a4 \uac83\uc744 \uc0ac\uc6a9\ud560 \uac83\uc778\uc9c0 \ucd5c\uc120\uc758 \uc120\ud0dd\uc744 \ud558\uae30 \ubc14\ub78d\ub2c8\ub2e4. \n\n\ucd95\ud558\ud569\ub2c8\ub2e4! \uc774\uc81c PyTorch\uc5d0\uc11c \ubcc0\ud654\ub3c4\ub97c 0\uc73c\ub85c \ub9cc\ub4e4 \uc218 \uc788\uc2b5\ub2c8\ub2e4. \n\n\ub354 \uc54c\uc544\ubcf4\uae30\n----------\n\n\ub2e4\ub978 \ub808\uc2dc\ud53c\ub97c \ub458\ub7ec\ubcf4\uace0 \uacc4\uc18d \ubc30\uc6cc\ubcf4\uc138\uc694:\n\n- :doc:`/recipes/recipes/loading_data_recipe`\n- :doc:`/recipes/recipes/save_load_across_devices`\n\n"
      ]
    }
  ],
  "metadata": {
    "kernelspec": {
      "display_name": "Python 3",
      "language": "python",
      "name": "python3"
    },
    "language_info": {
      "codemirror_mode": {
        "name": "ipython",
        "version": 3
      },
      "file_extension": ".py",
      "mimetype": "text/x-python",
      "name": "python",
      "nbconvert_exporter": "python",
      "pygments_lexer": "ipython3",
      "version": "3.6.7"
    }
  },
  "nbformat": 4,
  "nbformat_minor": 0
}