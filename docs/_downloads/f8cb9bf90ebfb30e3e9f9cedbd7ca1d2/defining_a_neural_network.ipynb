{
  "cells": [
    {
      "cell_type": "code",
      "execution_count": null,
      "metadata": {
        "collapsed": false
      },
      "outputs": [],
      "source": [
        "%matplotlib inline"
      ]
    },
    {
      "cell_type": "markdown",
      "metadata": {},
      "source": [
        "\nPytorch\ub97c \uc0ac\uc6a9\ud574 \uc2e0\uacbd\ub9dd \uc815\uc758\ud558\uae30\n====================================\n\ub525\ub7ec\ub2dd\uc740 \uc778\uacf5\uc2e0\uacbd\ub9dd(models)\uc744 \uc0ac\uc6a9\ud558\uba70 \uc774\uac83\uc740 \uc0c1\ud638\uc5f0\uacb0\ub41c \uc9d1\ub2e8\uc758 \ub9ce\uc740 \uacc4\uce35\uc73c\ub85c \uad6c\uc131\ub41c \uacc4\uc0b0 \uc2dc\uc2a4\ud15c\uc785\ub2c8\ub2e4. \n\ub370\uc774\ud130\uac00 \uc774 \uc0c1\ud638\uc5f0\uacb0\ub41c \uc9d1\ub2e8\uc744 \ud1b5\uacfc\ud558\uba74\uc11c, \uc2e0\uacbd\ub9dd\uc740 \uc785\ub825\uc744 \ucd9c\ub825\uc73c\ub85c \ubc14\uafb8\uae30 \uc704\ud574 \uc694\uad6c\ub41c \uacc4\uc0b0 \ubc29\ubc95\uc5d0 \uc5b4\ub5bb\uac8c \uadfc\uc811\ud558\ub294 \uc9c0\ub97c \ubc30\uc6b8 \uc218 \uc788\uc2b5\ub2c8\ub2e4.  \nPyTorch\uc5d0\uc11c, \uc2e0\uacbd\ub9dd\uc740 ``torch.nn`` \ud328\ud0a4\uc9c0\ub97c \uc0ac\uc6a9\ud574 \uad6c\uc131\ud560 \uc218 \uc788\uc2b5\ub2c8\ub2e4. \n\n\uc18c\uac1c\n-----\nPyTorch\ub294 ``torch.nn`` \uc744 \ud3ec\ud568\ud558\uc5ec \uc2e0\uacbd\ub9dd\uc744 \ub9cc\ub4e4\uace0 \ud6c8\ub828\uc2dc\ud0a4\ub294 \uac83\uc744 \ub3c4\uc6b8 \uc218 \uc788\ub3c4\ub85d \uc12c\uc138\ud558\uac8c \ub9cc\ub4e4\uc5b4\uc9c4 \ubaa8\ub4c8\uacfc \ud074\ub798\uc2a4\ub4e4\uc744 \uc81c\uacf5\ud569\ub2c8\ub2e4. \n``nn.Moduel`` \uc740 \uacc4\uce35, \uadf8\ub9ac\uace0 ``output`` \uc744 \ubc18\ud658\ud558\ub294 ``forward(input)`` \uba54\uc18c\ub4dc\ub97c \ud3ec\ud568\ud558\uace0 \uc788\uc2b5\ub2c8\ub2e4. \n\n\uc774 \ub808\uc2dc\ud53c\uc5d0\uc11c, `MNIST dataset <https://pytorch.org/docs/stable/torchvision/datasets.html#mnist>`__ \uc744 \uc0ac\uc6a9\ud558\uc5ec \uc2e0\uacbd\ub9dd\uc744 \uc815\uc758\ud558\uae30 \uc704\ud574 ``torch.nn`` \uc744 \uc0ac\uc6a9\ud560 \uc608\uc815\uc785\ub2c8\ub2e4.\n\n\uc124\uce58\n-----\n\uc2dc\uc791\ud558\uae30 \uc804\uc5d0, \uc900\ube44\uac00 \ub418\uc5b4\uc788\uc9c0 \uc54a\ub2e4\uba74 ``torch`` \ub97c \uc124\uce58\ud574\uc57c \ud569\ub2c8\ub2e4. \n\n::\n\n   pip install torchaudio\n\n\n\n"
      ]
    },
    {
      "cell_type": "markdown",
      "metadata": {},
      "source": [
        "\ub2e8\uacc4\n-----\n\n1. \ub370\uc774\ud130\ub97c \uac00\uc838\uc624\uae30 \uc704\ud574 \ud544\uc694\ud55c \ub77c\uc774\ube0c\ub7ec\ub9ac\ub4e4 \ubd88\ub7ec\uc624\uae30\n2. \uc2e0\uacbd\ub9dd\uc744 \uc815\uc758\ud558\uace0 \ucd08\uae30\ud654\ud558\uae30\n3. \ub370\uc774\ud130\uac00 \ubaa8\ub378\uc744 \uc5b4\ub5bb\uac8c \uc9c0\ub098\uac08 \uc9c0 \uad6c\uccb4\ud654\ud558\uae30\n4. [\uc120\ud0dd\uc0ac\ud56d] \ub370\uc774\ud130\ub97c \ubaa8\ub378\uc5d0 \uc801\uc6a9\ud574 \ud14c\uc2a4\ud2b8\ud558\uae30\n\n1. \ub370\uc774\ud130\ub97c \uac00\uc838\uc624\uae30 \uc704\ud574 \ud544\uc694\ud55c \ub77c\uc774\ube0c\ub7ec\ub9ac\ub4e4 \ubd88\ub7ec\uc624\uae30\n~~~~~~~~~~~~~~~~~~~~~~~~~~~~~~~~~~~~~~~~~~~~~~~~~~~~~~\n\n\uc774 \ub808\uc2dc\ud53c\uc5d0\uc11c, ``torch`` \uacfc \uc774\uac83\uc758 \ud558\uc704 \ubaa8\ub4c8\uc778 ``torch.nn`` , ``torch.nn.functional`` \uc744 \uc0ac\uc6a9\ud569\ub2c8\ub2e4.   \n\n\n"
      ]
    },
    {
      "cell_type": "code",
      "execution_count": null,
      "metadata": {
        "collapsed": false
      },
      "outputs": [],
      "source": [
        "import torch\nimport torch.nn as nn\nimport torch.nn.functional as F"
      ]
    },
    {
      "cell_type": "markdown",
      "metadata": {},
      "source": [
        "2. \uc2e0\uacbd\ub9dd\uc744 \uc815\uc758\ud558\uace0 \ucd08\uae30\ud654\ud558\uae30\n~~~~~~~~~~~~~~~~~~~~~~~~~~~~~~~~~~~~~~~~~~~~~~\n\n\uc774\ubbf8\uc9c0\ub97c \uc778\uc2dd\ud558\ub294 \uc2e0\uacbd\ub9dd\uc744 \ub9cc\ub4e4\uac81\ub2c8\ub2e4. PyTorch\uc5d0\uc11c \ub9cc\ub4e4\uc5b4\uc9c4 \ucee8\ubcfc\ub8e8\uc158(convolution)\uc774\ub77c\uace0 \ubd88\ub9ac\ub294 \ubc29\ubc95\uc744 \uc0ac\uc6a9\ud558\uaca0\uc2b5\ub2c8\ub2e4.\n\ucee8\ubcfc\ub8e8\uc158\uc740 \ucee4\ub110\uc774\ub098 \uc791\uc740 \uba54\ud2b8\ub9ad\uc2a4\ub97c \ud1b5\ud574 \uac00\uc911\uce58\ub97c \ubd80\uc5ec\ud55c \uc774\ubbf8\uc9c0\uc758 \uac01 \uc694\uc18c\ub97c \uc8fc\ubcc0 \uac12\uacfc \ub354\ud569\ub2c8\ub2e4. \n\uadf8\ub9ac\uace0 \uc774\uac83\uc740 \uc785\ub825\ub41c \uc774\ubbf8\uc9c0\uc758 \ud2b9\uc9d5(\ubaa8\uc11c\ub9ac \uac10\uc9c0, \uc120\uba85\ud568, \ud750\ub9bf\ud568 \ub4f1\uacfc \uac19\uc740)\uc744 \ucd94\ucd9c\ud558\ub294 \ub370 \ub3c4\uc6c0\uc744 \uc90d\ub2c8\ub2e4. \n\n\ubaa8\ub378\uc758 ``Net`` \ud074\ub798\uc2a4\ub97c \uc815\uc758\ud558\uae30 \uc704\ud574 2\uac00\uc9c0\uac00 \ud544\uc694\ud569\ub2c8\ub2e4. \n\uccab\ubc88\uc9f8\ub294 ``nn.Module`` \uc744 \ucc38\uace0\ud558\ub294 ``__init__`` \ud568\uc218\ub97c \uc791\uc131\ud558\ub294 \uac83\uc785\ub2c8\ub2e4. \n\uc774 \ud568\uc218\ub294 \uc2e0\uacbd\ub9dd\uc5d0\uc11c  fully connected layers\ub97c \ub9cc\ub4dc\ub294 \uac83\uc5d0 \uc0ac\uc6a9\ub429\ub2c8\ub2e4.\n\n\ucee8\ubcfc\ub8e8\uc158\uc744 \uc0ac\uc6a9\ud574, 1\uac1c\uc758 \uc785\ub825 \uc774\ubbf8\uc9c0 \ucc44\ub110\uc744 \uac00\uc9c0\uace0 \n\ubaa9\ud45c\uc778 0\ubd80\ud130 9\uae4c\uc9c0 \uc22b\uc790\ub97c \ub300\ud45c\ud558\ub294 10\uac1c\uc758 \ub77c\ubca8\uacfc \ub418\uc751\ub418 \uac12\uc744 \ucd9c\ub825\ud558\ub294 \ubaa8\ub378\uc744 \uc815\uc758\ud558\uaca0\uc2b5\ub2c8\ub2e4.\n\uc774 \uc54c\uace0\ub9ac\uc998\uc740 \ub9cc\ub4dc\ub294 \uc0ac\ub78c\uc5d0 \ub2ec\ub838\uc9c0\ub9cc, \uae30\ubcf8\uc801\uc778 MNIST \uc54c\uace0\ub9ac\uc998\uc744 \ub530\ub974\ub3c4\ub85d \ud558\uaca0\uc2b5\ub2c8\ub2e4. \n\n\n"
      ]
    },
    {
      "cell_type": "code",
      "execution_count": null,
      "metadata": {
        "collapsed": false
      },
      "outputs": [],
      "source": [
        "class Net(nn.Module):\n    def __init__(self):\n      super(Net, self).__init__()\n\n      # \uccab\ubc88\uc9f8 2D \ucee8\ubcfc\ub8e8\uc158 \uacc4\uce35\n      # 1\uac1c\uc758 \uc785\ub825 \ucc44\ub110(\uc774\ubbf8\uc9c0)\uc744 \ubc1b\uc544\ub4e4\uc774\uace0, \uc0ac\uac01 \ucee4\ub110 \uc0ac\uc774\uc988\uac00 3\uc778 32\uac1c\uc758 \ucee8\ubcfc\ub8e8\uc158 \ud2b9\uc9d5\ub4e4\uc744 \ucd9c\ub825\ud569\ub2c8\ub2e4. \n      self.conv1 = nn.Conv2d(1, 32, 3, 1)\n      # \ub450\ubc88\uc9f8 2D \ucee8\ubcfc\ub8e8\uc158 \uacc4\uce35\n      # 32\uac1c\uc758 \uc785\ub825 \uac8c\uce35\uc744 \ubc1b\uc544\ub4e4\uc774\uace0, \uc0ac\uac01 \ucee4\ub110 \uc0ac\uc774\uc988\uac00 3\uc778 64\uac1c\uc758 \ucee8\ubcfc\ub8e8\uc158 \ud2b9\uc9d5\uc744 \ucd9c\ub825\ud569\ub2c8\ub2e4. \n      self.conv2 = nn.Conv2d(32, 64, 3, 1)\n\n      # \uc778\uc811\ud55c \ud53d\uc140\ub4e4\uc740 \uc785\ub825 \ud655\ub960\uc5d0 \ub530\ub77c \ubaa8\ub450 0 \uac12\uc744 \uac00\uc9c0\uac70\ub098 \ud639\uc740 \ubaa8\ub450 \uc720\ud6a8\ud55c \uac12\uc774 \ub418\ub3c4\ub85d \ub9cc\ub4ed\ub2c8\ub2e4.\n      self.dropout1 = nn.Dropout2d(0.25)\n      self.dropout2 = nn.Dropout2d(0.5)\n\n      # \uccab\ubc88\uc9f8 fully connected layer\n      self.fc1 = nn.Linear(9216, 128)\n      # 10\uac1c\uc758 \ub77c\ubca8\uc744 \ucd9c\ub825\ud558\ub294 \ub450\ubc88\uc9f8 fully connected layer\n      self.fc2 = nn.Linear(128, 10)\n\nmy_nn = Net()\nprint(my_nn)"
      ]
    },
    {
      "cell_type": "markdown",
      "metadata": {},
      "source": [
        "\uc2e0\uacbd\ub9dd\uc744 \uc815\uc758\ud558\ub294 \uac83\uc744 \ub9c8\ucce4\uc2b5\ub2c8\ub2e4. \uc774\uc81c \uc5b4\ub5bb\uac8c \uc774\uac83\uc744 \uc9c0\ub098\uac08 \uc9c0 \uc815\uc758\ud574\uc57c \ud569\ub2c8\ub2e4. \n\n3. \ub370\uc774\ud130\uac00 \ubaa8\ub378\uc744 \uc5b4\ub5bb\uac8c \uc9c0\ub098\uac08 \uc9c0 \uad6c\uccb4\ud654\ud558\uae30\n~~~~~~~~~~~~~~~~~~~~~~~~~~~~~~~~~~~~~~~~~~~~~~~~~~~~\n\nPyTorch\ub97c \uc0ac\uc6a9\ud574 \ubaa8\ub378\uc744 \uc0dd\uc131\ud560 \ub54c, \uacc4\uc0b0 \uadf8\ub798\ud504(\uc989, \uc2e0\uacbd\ub9dd)\uc5d0 \ub370\uc774\ud130\ub97c \uc9c0\ub098\uac00\uac8c \ud558\ub294 ``forward`` \ud568\uc218\ub97c \uc815\uc758\ud574\uc57c \ud569\ub2c8\ub2e4. \n\uc774\uac83\uc740 feed-forward \uc54c\uace0\ub9ac\uc998\uc744 \ub098\ud0c0\ub0c5\ub2c8\ub2e4.\n\n``forward`` \ud568\uc218\uc5d0\uc11c \uc5b4\ub5a0\ud55c Tensor \uc5f0\uc0b0\uc790\ub3c4 \uc0ac\uc6a9 \uac00\ub2a5\ud569\ub2c8\ub2e4. \n\n\n"
      ]
    },
    {
      "cell_type": "code",
      "execution_count": null,
      "metadata": {
        "collapsed": false
      },
      "outputs": [],
      "source": [
        "class Net(nn.Module):\n    def __init__(self):\n      super(Net, self).__init__()\n      self.conv1 = nn.Conv2d(1, 32, 3, 1)\n      self.conv2 = nn.Conv2d(32, 64, 3, 1)\n      self.dropout1 = nn.Dropout2d(0.25)\n      self.dropout2 = nn.Dropout2d(0.5)\n      self.fc1 = nn.Linear(9216, 128)\n      self.fc2 = nn.Linear(128, 10)\n\n    # x\ub294 \ub370\uc774\ud130\ub97c \ub098\ud0c0\ub0c5\ub2c8\ub2e4. \n    def forward(self, x):\n      # \ub370\uc774\ud130\uac00 conv1\uc744 \uc9c0\ub098\uac11\ub2c8\ub2e4. \n      x = self.conv1(x)\n      # x\ub97c ReLU \ud65c\uc131\ud568\uc218(rectified-linear activation function)\uc5d0 \ub300\uc785\ud569\ub2c8\ub2e4. \n      x = F.relu(x)\n\n      x = self.conv2(x)\n      x = F.relu(x)\n\n      # x\uc5d0 \ub300\ud574\uc11c max pooling\uc744 \uc2e4\ud589\ud569\ub2c8\ub2e4. \n      x = F.max_pool2d(x, 2)\n      # \ub370\uc774\ud130\uac00 dropout1\uc744 \uc9c0\ub098\uac11\ub2c8\ub2e4. \n      x = self.dropout1(x)\n      # start_dim=1\uc73c\ub85c x\ub97c \uc555\ucd95\ud569\ub2c8\ub2e4. \n      x = torch.flatten(x, 1)\n      # \ub370\uc774\ud130\uac00 fc1\uc744 \uc9c0\ub098\uac11\ub2c8\ub2e4. \n      x = self.fc1(x)\n      x = F.relu(x)\n      x = self.dropout2(x)\n      x = self.fc2(x)\n\n      # x\uc5d0 softmax\ub97c \uc801\uc6a9\ud569\ub2c8\ub2e4. \n      output = F.log_softmax(x, dim=1)\n      return output"
      ]
    },
    {
      "cell_type": "markdown",
      "metadata": {},
      "source": [
        "4. [\uc120\ud0dd\uc0ac\ud56d] \ub370\uc774\ud130\ub97c \ubaa8\ub378\uc5d0 \uc801\uc6a9\ud574 \ud14c\uc2a4\ud2b8\ud558\uae30\n~~~~~~~~~~~~~~~~~~~~~~~~~~~~~~~~~~~~~~~~~~~~~~~~~~~~~~~~\n\n\uc6d0\ud558\ub294 \ucd9c\ub825\uac12\uc744 \ubc1b\uc744 \uc218 \uc788\ub294 \uc9c0 \ud655\uc778\ud558\uae30 \uc704\ud574, \ubb34\uc791\uc704\uc758 \ub370\uc774\ud130\ub97c \ubaa8\ub378\uc5d0 \ud1b5\uacfc\uc2dc\ucf1c \uc2dc\ud5d8\ud574\ubd05\uc2dc\ub2e4. \n\n\n"
      ]
    },
    {
      "cell_type": "code",
      "execution_count": null,
      "metadata": {
        "collapsed": false
      },
      "outputs": [],
      "source": [
        "# \uc784\uc758\uc758 28x28 \uc774\ubbf8\uc9c0\ub85c \ub9de\ucdb0\uc90d\ub2c8\ub2e4. \nrandom_data = torch.rand((1, 1, 28, 28))\n\nmy_nn = Net()\nresult = my_nn(random_data)\nprint (result)"
      ]
    },
    {
      "cell_type": "markdown",
      "metadata": {},
      "source": [
        "\uacb0\uacfc tensor\uc758 \uac01 \uc22b\uc790\ub294 \uc784\uc758\uc758 tenosr\uc640 \uc5f0\uad00\ub41c \ub77c\ubca8\uc774 \uc608\uce21\ud55c \uac12\uacfc \uac19\ub2e4\ub294 \uac83\uc744 \ub098\ud0c0\ub0c5\ub2c8\ub2e4.   \n\n\ucd95\ud558\ud569\ub2c8\ub2e4! PyTorch\ub85c \uc2e0\uacbd\ub9dd \uc815\uc758\ud558\uae30\ub97c \uc131\uacf5\uc801\uc73c\ub85c \ud574\ub0c8\uc2b5\ub2c8\ub2e4. \n\n\ub354 \uc54c\uc544\ubcf4\uae30\n-----------\n\n\uacc4\uc18d\ud574\uc11c \ud559\uc2b5\ud558\uace0 \uc2f6\ub2e4\uba74 \ub2e4\ub978 \ub808\uc2dc\ud53c\ub97c \uc0b4\ud3b4\ubcf4\uc2ed\uc2dc\uc624:\n\n- `PyTorch\uc5d0\uc11c state_dict\uc774 \ubb34\uc5c7\uc778\uc9c0 <https://pytorch.org/tutorials/recipes/recipes/what_is_state_dict.html>`__\n- `PyTorch\ub85c \ucd94\ub860\uc744 \uc704\ud55c \ubaa8\ub378\uc744 \uc800\uc7a5\ud558\uace0 \uac00\uc800\uc624\uae30  <https://pytorch.org/tutorials/recipes/recipes/saving_and_loading_models_for_inference.html>`__\n\n"
      ]
    }
  ],
  "metadata": {
    "kernelspec": {
      "display_name": "Python 3",
      "language": "python",
      "name": "python3"
    },
    "language_info": {
      "codemirror_mode": {
        "name": "ipython",
        "version": 3
      },
      "file_extension": ".py",
      "mimetype": "text/x-python",
      "name": "python",
      "nbconvert_exporter": "python",
      "pygments_lexer": "ipython3",
      "version": "3.6.7"
    }
  },
  "nbformat": 4,
  "nbformat_minor": 0
}